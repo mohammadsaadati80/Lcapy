{
 "cells": [
  {
   "cell_type": "markdown",
   "id": "776d9036",
   "metadata": {},
   "source": [
    "# SS Computer Assignment 3 \n",
    "Mohammad Saadati - \n",
    "_810198410_"
   ]
  },
  {
   "cell_type": "markdown",
   "id": "ed685410",
   "metadata": {},
   "source": [
    "# Question 5"
   ]
  },
  {
   "cell_type": "code",
   "execution_count": 19,
   "id": "f58c3189",
   "metadata": {},
   "outputs": [],
   "source": [
    "from lcapy import *"
   ]
  },
  {
   "cell_type": "markdown",
   "id": "f2033692",
   "metadata": {},
   "source": [
    "### A"
   ]
  },
  {
   "cell_type": "code",
   "execution_count": 20,
   "id": "7980bbd1",
   "metadata": {},
   "outputs": [
    {
     "data": {
      "image/png": "[encoded data removed]",
      "text/latex": [
       "$\\displaystyle y(n) = a x(n) + b x(n - 1) - c y(n - 1) - d y(n - 2)$"
      ],
      "text/plain": [
       "y(n) = a⋅x(n) + b⋅x(n - 1) - c⋅y(n - 1) - d⋅y(n - 2)"
      ]
     },
     "execution_count": 20,
     "metadata": {},
     "output_type": "execute_result"
    }
   ],
   "source": [
    "a = symbol('a')\n",
    "b = symbol('b')\n",
    "c = symbol('c')\n",
    "d = symbol('d')\n",
    "lpf = DLTIFilter((a, b), (1, c, d))\n",
    "LPF=lpf.difference_equation()\n",
    "LPF.expr"
   ]
  },
  {
   "cell_type": "markdown",
   "id": "ab8aef53",
   "metadata": {},
   "source": [
    "### B"
   ]
  },
  {
   "cell_type": "code",
   "execution_count": 21,
   "id": "8e7a7257",
   "metadata": {},
   "outputs": [
    {
     "data": {
      "image/png": "[encoded data removed]",
      "text/latex": [
       "$\\displaystyle \\frac{z \\left(a z + b\\right)}{c z + d + z^{2}}$"
      ],
      "text/plain": [
       "z⋅(a⋅z + b) \n",
       "────────────\n",
       "           2\n",
       "c⋅z + d + z "
      ]
     },
     "execution_count": 21,
     "metadata": {},
     "output_type": "execute_result"
    }
   ],
   "source": [
    "bd = LPF.transfer_function()\n",
    "LPF.transfer_function().expr"
   ]
  },
  {
   "cell_type": "markdown",
   "id": "b086022f",
   "metadata": {},
   "source": [
    "### C"
   ]
  },
  {
   "cell_type": "code",
   "execution_count": 22,
   "id": "78579dca",
   "metadata": {},
   "outputs": [
    {
     "data": {
      "text/latex": [
       "$\\displaystyle \\frac{2^{- n} \\left(\\left(- c - \\sqrt{c^{2} - 4 d}\\right)^{n} \\left(a c + a \\sqrt{c^{2} - 4 d} - 2 b\\right) + \\left(- c + \\sqrt{c^{2} - 4 d}\\right)^{n} \\left(- a c + a \\sqrt{c^{2} - 4 d} + 2 b\\right)\\right)}{2 \\sqrt{c^{2} - 4 d}} \\;\\; \\text{for}\\: n \\geq 0$"
      ],
      "text/plain": [
       "    ⎛                    n                                                    \n",
       "    ⎜⎛        __________⎞  ⎛           __________      ⎞   ⎛        __________\n",
       " -n ⎜⎜       ╱  2       ⎟  ⎜          ╱  2             ⎟   ⎜       ╱  2       \n",
       "2  ⋅⎝⎝-c - ╲╱  c  - 4⋅d ⎠ ⋅⎝a⋅c + a⋅╲╱  c  - 4⋅d  - 2⋅b⎠ + ⎝-c + ╲╱  c  - 4⋅d \n",
       "──────────────────────────────────────────────────────────────────────────────\n",
       "                                                     __________               \n",
       "                                                    ╱  2                      \n",
       "                                                2⋅╲╱  c  - 4⋅d                \n",
       "\n",
       " n                               ⎞           \n",
       "⎞  ⎛            __________      ⎞⎟           \n",
       "⎟  ⎜           ╱  2             ⎟⎟           \n",
       "⎠ ⋅⎝-a⋅c + a⋅╲╱  c  - 4⋅d  + 2⋅b⎠⎠           \n",
       "──────────────────────────────────  for n ≥ 0\n",
       "                                             \n",
       "                                             \n",
       "                                             "
      ]
     },
     "execution_count": 22,
     "metadata": {},
     "output_type": "execute_result"
    }
   ],
   "source": [
    "# x = delta(n)\n",
    "# (LPF.transfer_function()*x.ZT()).IZT().expr\n",
    "\n",
    "(LPF.transfer_function()).IZT().simplify_terms().expr"
   ]
  },
  {
   "cell_type": "markdown",
   "id": "b06d9851",
   "metadata": {},
   "source": [
    "### D"
   ]
  },
  {
   "cell_type": "code",
   "execution_count": 23,
   "id": "4dfa5888",
   "metadata": {},
   "outputs": [
    {
     "data": {
      "image/png": "[encoded data removed]",
      "text/latex": [
       "$\\displaystyle y(n) = x(n) + x(n - 1) - 2 y(n - 2) + 3 y(n - 1)$"
      ],
      "text/plain": [
       "y(n) = x(n) + x(n - 1) - 2⋅y(n - 2) + 3⋅y(n - 1)"
      ]
     },
     "execution_count": 23,
     "metadata": {},
     "output_type": "execute_result"
    }
   ],
   "source": [
    "lpf = lpf.subs({a:1, b:1, c:-3, d:2})\n",
    "LPF = lpf.difference_equation()\n",
    "LPF.expr"
   ]
  },
  {
   "cell_type": "markdown",
   "id": "c817321e",
   "metadata": {},
   "source": [
    "### E"
   ]
  },
  {
   "cell_type": "code",
   "execution_count": 24,
   "id": "43d9e2b0",
   "metadata": {},
   "outputs": [
    {
     "data": {
      "image/png": "[encoded data removed]",
      "text/latex": [
       "$\\displaystyle y(n) = a x(n) + b x(n - 1) - c y(n - 1) - d y(n - 2)$"
      ],
      "text/plain": [
       "y(n) = a⋅x(n) + b⋅x(n - 1) - c⋅y(n - 1) - d⋅y(n - 2)"
      ]
     },
     "execution_count": 24,
     "metadata": {},
     "output_type": "execute_result"
    }
   ],
   "source": [
    "bd.difference_equation('x', 'y', 'iir').expr"
   ]
  },
  {
   "cell_type": "markdown",
   "id": "96a11a27",
   "metadata": {},
   "source": [
    "### F"
   ]
  },
  {
   "cell_type": "code",
   "execution_count": 25,
   "id": "37140bc2",
   "metadata": {},
   "outputs": [
    {
     "data": {
      "text/latex": [
       "$$\\left\\{\\underline{1}, 6, 22, 66\\right\\}$$"
      ],
      "text/plain": [
       "{_1, 6, 22, 66}"
      ]
     },
     "execution_count": 25,
     "metadata": {},
     "output_type": "execute_result"
    }
   ],
   "source": [
    "x = (2**n)*(u(n))\n",
    "# (lpf.transfer_function()*x.ZT()).IZT().expr\n",
    "\n",
    "lpf.response(x,ni=(0,3))"
   ]
  }
 ],
 "metadata": {
  "kernelspec": {
   "display_name": "Python 3",
   "language": "python",
   "name": "python3"
  },
  "language_info": {
   "codemirror_mode": {
    "name": "ipython",
    "version": 3
   },
   "file_extension": ".py",
   "mimetype": "text/x-python",
   "name": "python",
   "nbconvert_exporter": "python",
   "pygments_lexer": "ipython3",
   "version": "3.8.8"
  }
 },
 "nbformat": 4,
 "nbformat_minor": 5
}
