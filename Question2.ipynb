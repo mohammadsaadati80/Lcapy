{
 "cells": [
  {
   "cell_type": "markdown",
   "id": "776d9036",
   "metadata": {},
   "source": [
    "# SS Computer Assignment 3 \n",
    "Mohammad Saadati - \n",
    "_810198410_"
   ]
  },
  {
   "cell_type": "markdown",
   "id": "ed685410",
   "metadata": {},
   "source": [
    "# Question 2"
   ]
  },
  {
   "cell_type": "markdown",
   "id": "d52640d1",
   "metadata": {},
   "source": [
    "## Laplace Analysis"
   ]
  },
  {
   "cell_type": "code",
   "execution_count": 56,
   "id": "518c3931",
   "metadata": {},
   "outputs": [],
   "source": [
    "from lcapy import Circuit"
   ]
  },
  {
   "cell_type": "markdown",
   "id": "f2033692",
   "metadata": {},
   "source": [
    "### A"
   ]
  },
  {
   "cell_type": "code",
   "execution_count": 57,
   "id": "29e39510",
   "metadata": {},
   "outputs": [],
   "source": [
    "# a = Circuit(\"\"\"\n",
    "# V 1 0 {v(t)}; down\n",
    "# R1 1 2; right\n",
    "# L 2 3; right=1.5, i=i_L\n",
    "# R2 3 0_3; down=1.5, i=i_{R2}, v=v_{R2}\n",
    "# W 0 0_3; right\n",
    "# W 3 3_a; right\n",
    "# C 3_a 0_4; down, i=i_C, v=v_C\n",
    "# W 0_3 0_4; right\"\"\")\n",
    "\n",
    "a = Circuit(\"\"\"\n",
    "P1 1 0; down=1.5, v=v(t)\n",
    "R1 1 2; right=1.5\n",
    "L 2 3; right=1.5\n",
    "R2 3 0_2; down\n",
    "W 0 0_2; right\n",
    "W 3 4; right\n",
    "W 4 5; right\n",
    "W 0_2 0_3; right\n",
    "C 4 0_3; down\n",
    "W 0_3 0_4; right\n",
    "P2 5 0_4; down, v^=v_c(t)\"\"\")"
   ]
  },
  {
   "cell_type": "markdown",
   "id": "ab8aef53",
   "metadata": {},
   "source": [
    "### B"
   ]
  },
  {
   "cell_type": "code",
   "execution_count": 58,
   "id": "54a624b2",
   "metadata": {},
   "outputs": [
    {
     "data": {
      "image/png": "[encoded data removed]",
      "text/latex": [
       "$\\displaystyle \\frac{\\frac{1}{C} \\frac{1}{L}}{s^{2} + \\frac{s \\left(C R_{1} R_{2} + L\\right)}{C L R_{2}} + \\frac{R_{1} + R_{2}}{C L R_{2}}}$"
      ],
      "text/plain": [
       "            ⎛ 1 ⎞             \n",
       "            ⎜───⎟             \n",
       "            ⎝C⋅L⎠             \n",
       "──────────────────────────────\n",
       " 2   s⋅(C⋅R₁⋅R₂ + L)   R₁ + R₂\n",
       "s  + ─────────────── + ───────\n",
       "          C⋅L⋅R₂        C⋅L⋅R₂"
      ]
     },
     "execution_count": 58,
     "metadata": {},
     "output_type": "execute_result"
    }
   ],
   "source": [
    "H = a.transfer(1, 0, 5, 0)\n",
    "H.expr"
   ]
  },
  {
   "cell_type": "markdown",
   "id": "b086022f",
   "metadata": {},
   "source": [
    "### C"
   ]
  },
  {
   "cell_type": "code",
   "execution_count": 59,
   "id": "6e05bdac",
   "metadata": {},
   "outputs": [
    {
     "data": {
      "image/png": "[encoded data removed]",
      "text/latex": [
       "$\\displaystyle \\frac{\\frac{1}{C} \\frac{1}{L}}{s \\left(s + \\frac{C R_{1} R_{2} + L}{2 C L R_{2}} - \\frac{\\sqrt{C^{2} R_{1}^{2} R_{2}^{2} - 2 C L R_{1} R_{2} - 4 C L R_{2}^{2} + L^{2}}}{2 C L R_{2}}\\right) \\left(s + \\frac{C R_{1} R_{2} + L}{2 C L R_{2}} + \\frac{\\sqrt{C^{2} R_{1}^{2} R_{2}^{2} - 2 C L R_{1} R_{2} - 4 C L R_{2}^{2} + L^{2}}}{2 C L R_{2}}\\right)}$"
      ],
      "text/plain": [
       "                                                                 ⎛ 1 ⎞        \n",
       "                                                                 ⎜───⎟        \n",
       "                                                                 ⎝C⋅L⎠        \n",
       "──────────────────────────────────────────────────────────────────────────────\n",
       "  ⎛                     ___________________________________________⎞ ⎛        \n",
       "  ⎜                    ╱  2   2   2                         2    2 ⎟ ⎜        \n",
       "  ⎜    C⋅R₁⋅R₂ + L   ╲╱  C ⋅R₁ ⋅R₂  - 2⋅C⋅L⋅R₁⋅R₂ - 4⋅C⋅L⋅R₂  + L  ⎟ ⎜    C⋅R₁\n",
       "s⋅⎜s + ─────────── - ──────────────────────────────────────────────⎟⋅⎜s + ────\n",
       "  ⎝      2⋅C⋅L⋅R₂                       2⋅C⋅L⋅R₂                   ⎠ ⎝      2⋅\n",
       "\n",
       "                                                         \n",
       "                                                         \n",
       "                                                         \n",
       "─────────────────────────────────────────────────────────\n",
       "             ___________________________________________⎞\n",
       "            ╱  2   2   2                         2    2 ⎟\n",
       "⋅R₂ + L   ╲╱  C ⋅R₁ ⋅R₂  - 2⋅C⋅L⋅R₁⋅R₂ - 4⋅C⋅L⋅R₂  + L  ⎟\n",
       "─────── + ──────────────────────────────────────────────⎟\n",
       "C⋅L⋅R₂                       2⋅C⋅L⋅R₂                   ⎠"
      ]
     },
     "execution_count": 59,
     "metadata": {},
     "output_type": "execute_result"
    }
   ],
   "source": [
    "((1/s)*H).ZPK().expr"
   ]
  },
  {
   "cell_type": "markdown",
   "id": "b06d9851",
   "metadata": {},
   "source": [
    "### D"
   ]
  },
  {
   "cell_type": "code",
   "execution_count": 60,
   "id": "41fb8dd6",
   "metadata": {},
   "outputs": [
    {
     "data": {
      "image/png": "[encoded data removed]",
      "text/latex": [
       "$\\displaystyle \\frac{\\left(13 e^{\\frac{9 t}{5}} - 3 \\sqrt{39} \\sin{\\left(\\frac{\\sqrt{39} t}{5} \\right)} - 13 \\cos{\\left(\\frac{\\sqrt{39} t}{5} \\right)}\\right) e^{- \\frac{9 t}{5}} u\\left(t\\right)}{39}$"
      ],
      "text/plain": [
       "⎛    9⋅t                                   ⎞  -9⋅t      \n",
       "⎜    ───                                   ⎟  ─────     \n",
       "⎜     5             ⎛√39⋅t⎞         ⎛√39⋅t⎞⎟    5       \n",
       "⎜13⋅ℯ    - 3⋅√39⋅sin⎜─────⎟ - 13⋅cos⎜─────⎟⎟⋅ℯ     ⋅u(t)\n",
       "⎝                   ⎝  5  ⎠         ⎝  5  ⎠⎠            \n",
       "────────────────────────────────────────────────────────\n",
       "                           39                           "
      ]
     },
     "execution_count": 60,
     "metadata": {},
     "output_type": "execute_result"
    }
   ],
   "source": [
    "a = a.subs({'R1': 4 , 'L': 2.5, 'R2': 2, 'C': 0.25})\n",
    "H = a.P1.transfer('P2')\n",
    "v_i = voltage(u(t))\n",
    "V_i = v_i(s)\n",
    "V_o = V_i*H\n",
    "v_o = V_o(t)\n",
    "v_o.simplify().expr"
   ]
  },
  {
   "cell_type": "markdown",
   "id": "c817321e",
   "metadata": {},
   "source": [
    "### E"
   ]
  },
  {
   "cell_type": "code",
   "execution_count": 55,
   "id": "64a75169",
   "metadata": {},
   "outputs": [],
   "source": [
    "i = a.C.i\n",
    "i = i.LT()\n",
    "v_i = voltage(u(t))\n",
    "v_i = v_i.LT()\n",
    "i/v_i"
   ]
  },
  {
   "cell_type": "markdown",
   "id": "eda2c622",
   "metadata": {},
   "source": [
    "## Laplace Transform"
   ]
  },
  {
   "cell_type": "code",
   "execution_count": 61,
   "id": "3d844938",
   "metadata": {},
   "outputs": [
    {
     "data": {
      "text/latex": [
       "$\\displaystyle \\left(3 - 2 f_{0}\\right) \\delta\\left(t\\right) + \\left(\\frac{f_{0}^{2}}{2} + \\left(\\frac{f_{0}^{2}}{2} - 6 f_{0} - 2\\right) \\cos{\\left(2 t \\right)} + \\left(\\frac{3 f_{0}^{2}}{2} - 2 f_{0} - 6\\right) \\sin{\\left(2 t \\right)}\\right) u\\left(t\\right) + \\delta^{\\left( 1 \\right)}\\left( t \\right) \\;\\; \\text{for}\\: t \\geq 0$"
      ],
      "text/plain": [
       "                  ⎛  2   ⎛  2           ⎞            ⎛    2           ⎞       \n",
       "                  ⎜f₀    ⎜f₀            ⎟            ⎜3⋅f₀            ⎟       \n",
       "(3 - 2⋅f₀)⋅δ(t) + ⎜─── + ⎜─── - 6⋅f₀ - 2⎟⋅cos(2⋅t) + ⎜───── - 2⋅f₀ - 6⎟⋅sin(2⋅\n",
       "                  ⎝ 2    ⎝ 2            ⎠            ⎝  2             ⎠       \n",
       "\n",
       "  ⎞                           \n",
       "  ⎟         (1)               \n",
       "t)⎟⋅u(t) + δ    (t)  for t ≥ 0\n",
       "  ⎠                           "
      ]
     },
     "execution_count": 61,
     "metadata": {},
     "output_type": "execute_result"
    }
   ],
   "source": [
    "from lcapy import *\n",
    "\n",
    "f0 = symbol('f0')\n",
    "x = (3-2*f0)*delta(t) + ( (f0**2)/2 + ((f0**2)/2 -6*f0 -2)*cos(2*t) + (3*(f0**2)/2 -2*f0 -6)*sin(2*t) )*u(t) + s(t)\n",
    "x.expr"
   ]
  },
  {
   "cell_type": "markdown",
   "id": "49805e15",
   "metadata": {},
   "source": [
    "### A"
   ]
  },
  {
   "cell_type": "code",
   "execution_count": 62,
   "id": "1dcb70cc",
   "metadata": {},
   "outputs": [
    {
     "data": {
      "image/png": "[encoded data removed]",
      "text/latex": [
       "$\\displaystyle \\frac{f_{0}^{2}}{2 s} - 2 f_{0} + s + \\frac{s \\left(\\frac{f_{0}^{2}}{2} - 6 f_{0} - 2\\right)}{s^{2} + 4} + 3 + \\frac{2 \\left(\\frac{3 f_{0}^{2}}{2} - 2 f_{0} - 6\\right)}{s^{2} + 4}$"
      ],
      "text/plain": [
       "                   ⎛  2           ⎞         ⎛    2           ⎞\n",
       "                   ⎜f₀            ⎟         ⎜3⋅f₀            ⎟\n",
       "  2              s⋅⎜─── - 6⋅f₀ - 2⎟       2⋅⎜───── - 2⋅f₀ - 6⎟\n",
       "f₀                 ⎝ 2            ⎠         ⎝  2             ⎠\n",
       "─── - 2⋅f₀ + s + ────────────────── + 3 + ────────────────────\n",
       "2⋅s                     2                         2           \n",
       "                       s  + 4                    s  + 4       "
      ]
     },
     "execution_count": 62,
     "metadata": {},
     "output_type": "execute_result"
    }
   ],
   "source": [
    "x.LT().expr"
   ]
  },
  {
   "cell_type": "markdown",
   "id": "ca5cd73e",
   "metadata": {},
   "source": [
    "### B"
   ]
  },
  {
   "cell_type": "code",
   "execution_count": 63,
   "id": "c20ffe5a",
   "metadata": {},
   "outputs": [
    {
     "data": {
      "image/png": "[encoded data removed]",
      "text/latex": [
       "$\\displaystyle s - \\frac{12 s}{s^{2} + 4} - 1 - \\frac{8}{s^{2} + 4} + \\frac{2}{s}$"
      ],
      "text/plain": [
       "     12⋅s          8      2\n",
       "s - ────── - 1 - ────── + ─\n",
       "     2            2       s\n",
       "    s  + 4       s  + 4    "
      ]
     },
     "execution_count": 63,
     "metadata": {},
     "output_type": "execute_result"
    }
   ],
   "source": [
    "x(s).subs({f0:2}).expr"
   ]
  },
  {
   "cell_type": "markdown",
   "id": "a9bed897",
   "metadata": {},
   "source": [
    "### C"
   ]
  },
  {
   "cell_type": "code",
   "execution_count": 64,
   "id": "daceb9dc",
   "metadata": {},
   "outputs": [
    {
     "data": {
      "image/png": "[encoded data removed]",
      "text/plain": [
       "<Figure size 432x288 with 1 Axes>"
      ]
     },
     "metadata": {
      "needs_background": "light"
     },
     "output_type": "display_data"
    }
   ],
   "source": [
    "from lcapy import s, j, transfer\n",
    "from matplotlib.pyplot import savefig\n",
    "\n",
    "H = transfer(x(s).subs({f0:2}))\n",
    "H.plot(xlabel=r'$\\sigma$', ylabel=r'$\\omega$', title='Pole zero plot')\n",
    "\n",
    "savefig('tf1-pole-zero-plot.png')"
   ]
  }
 ],
 "metadata": {
  "kernelspec": {
   "display_name": "Python 3",
   "language": "python",
   "name": "python3"
  },
  "language_info": {
   "codemirror_mode": {
    "name": "ipython",
    "version": 3
   },
   "file_extension": ".py",
   "mimetype": "text/x-python",
   "name": "python",
   "nbconvert_exporter": "python",
   "pygments_lexer": "ipython3",
   "version": "3.8.8"
  }
 },
 "nbformat": 4,
 "nbformat_minor": 5
}
