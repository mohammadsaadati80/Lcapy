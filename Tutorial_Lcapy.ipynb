{
 "cells": [
  {
   "cell_type": "markdown",
   "metadata": {
    "id": "Ka-NMiR7bmf5"
   },
   "source": [
    "# Signal and Systems Fall 1400\n",
    "## Python Tutorial - Lcapy \n",
    "\n",
    "\n",
    "* Prepared by : Shayan Vassef\n",
    "* Email : sh.vassef@ut.ac.ir\n",
    "\n",
    "![Python](https://drive.google.com/uc?export=view&id=1Rhyh-TU_iUGeCvIHDrOjFZDLdMgAP5DZ)"
   ]
  },
  {
   "cell_type": "code",
   "execution_count": null,
   "metadata": {
    "colab": {
     "base_uri": "https://localhost:8080/"
    },
    "id": "yUa4BleE1-G-",
    "outputId": "1c3404b7-5308-44d6-c908-b29ee850e2cf"
   },
   "outputs": [
    {
     "name": "stdout",
     "output_type": "stream",
     "text": [
      "Collecting lcapy\n",
      "  Cloning https://github.com/mph-/lcapy.git to /tmp/pip-install-tl5j4omj/lcapy_94390f570e9f4159a020aa59b8700dea\n",
      "  Running command git clone -q https://github.com/mph-/lcapy.git /tmp/pip-install-tl5j4omj/lcapy_94390f570e9f4159a020aa59b8700dea\n",
      "Requirement already satisfied: matplotlib in /usr/local/lib/python3.7/dist-packages (from lcapy) (3.2.2)\n",
      "Requirement already satisfied: scipy in /usr/local/lib/python3.7/dist-packages (from lcapy) (1.4.1)\n",
      "Requirement already satisfied: numpy in /usr/local/lib/python3.7/dist-packages (from lcapy) (1.19.5)\n",
      "Requirement already satisfied: sympy>=1.7.1 in /usr/local/lib/python3.7/dist-packages (from lcapy) (1.7.1)\n",
      "Requirement already satisfied: networkx in /usr/local/lib/python3.7/dist-packages (from lcapy) (2.6.3)\n",
      "Requirement already satisfied: IPython in /usr/local/lib/python3.7/dist-packages (from lcapy) (5.5.0)\n",
      "Requirement already satisfied: setuptools in /usr/local/lib/python3.7/dist-packages (from lcapy) (57.4.0)\n",
      "Requirement already satisfied: wheel in /usr/local/lib/python3.7/dist-packages (from lcapy) (0.37.0)\n",
      "Requirement already satisfied: property_cached in /usr/local/lib/python3.7/dist-packages (from lcapy) (1.6.4)\n",
      "Requirement already satisfied: mpmath>=0.19 in /usr/local/lib/python3.7/dist-packages (from sympy>=1.7.1->lcapy) (1.2.1)\n",
      "Requirement already satisfied: pickleshare in /usr/local/lib/python3.7/dist-packages (from IPython->lcapy) (0.7.5)\n",
      "Requirement already satisfied: prompt-toolkit<2.0.0,>=1.0.4 in /usr/local/lib/python3.7/dist-packages (from IPython->lcapy) (1.0.18)\n",
      "Requirement already satisfied: decorator in /usr/local/lib/python3.7/dist-packages (from IPython->lcapy) (4.4.2)\n",
      "Requirement already satisfied: pexpect in /usr/local/lib/python3.7/dist-packages (from IPython->lcapy) (4.8.0)\n",
      "Requirement already satisfied: simplegeneric>0.8 in /usr/local/lib/python3.7/dist-packages (from IPython->lcapy) (0.8.1)\n",
      "Requirement already satisfied: pygments in /usr/local/lib/python3.7/dist-packages (from IPython->lcapy) (2.6.1)\n",
      "Requirement already satisfied: traitlets>=4.2 in /usr/local/lib/python3.7/dist-packages (from IPython->lcapy) (5.1.1)\n",
      "Requirement already satisfied: six>=1.9.0 in /usr/local/lib/python3.7/dist-packages (from prompt-toolkit<2.0.0,>=1.0.4->IPython->lcapy) (1.15.0)\n",
      "Requirement already satisfied: wcwidth in /usr/local/lib/python3.7/dist-packages (from prompt-toolkit<2.0.0,>=1.0.4->IPython->lcapy) (0.2.5)\n",
      "Requirement already satisfied: cycler>=0.10 in /usr/local/lib/python3.7/dist-packages (from matplotlib->lcapy) (0.11.0)\n",
      "Requirement already satisfied: kiwisolver>=1.0.1 in /usr/local/lib/python3.7/dist-packages (from matplotlib->lcapy) (1.3.2)\n",
      "Requirement already satisfied: pyparsing!=2.0.4,!=2.1.2,!=2.1.6,>=2.0.1 in /usr/local/lib/python3.7/dist-packages (from matplotlib->lcapy) (3.0.6)\n",
      "Requirement already satisfied: python-dateutil>=2.1 in /usr/local/lib/python3.7/dist-packages (from matplotlib->lcapy) (2.8.2)\n",
      "Requirement already satisfied: ptyprocess>=0.5 in /usr/local/lib/python3.7/dist-packages (from pexpect->IPython->lcapy) (0.7.0)\n"
     ]
    }
   ],
   "source": [
    "! pip install git+https://github.com/mph-/lcapy.git#egg=lcapy"
   ]
  },
  {
   "cell_type": "markdown",
   "metadata": {
    "id": "vDXF3SsY4UwI"
   },
   "source": [
    "# Expression manipulation\n",
    "## Second order system"
   ]
  },
  {
   "cell_type": "code",
   "execution_count": null,
   "metadata": {
    "id": "NNlMnmpc2ftD"
   },
   "outputs": [],
   "source": [
    "from lcapy import *\n",
    "x = expr('A * exp(-alpha * t) * cos(omega_0 * t + theta)')"
   ]
  },
  {
   "cell_type": "code",
   "execution_count": null,
   "metadata": {
    "colab": {
     "base_uri": "https://localhost:8080/"
    },
    "id": "5bLqlZgy2fvz",
    "outputId": "ce3c801c-d1cc-4d1a-8a21-4240757cddc0"
   },
   "outputs": [
    {
     "data": {
      "text/plain": [
       "['theta', 'A', 'alpha', 't', 'omega_0']"
      ]
     },
     "execution_count": 465,
     "metadata": {},
     "output_type": "execute_result"
    }
   ],
   "source": [
    "list(x.symbols)"
   ]
  },
  {
   "cell_type": "code",
   "execution_count": null,
   "metadata": {
    "colab": {
     "base_uri": "https://localhost:8080/",
     "height": 38
    },
    "id": "NzpCESco2fyb",
    "outputId": "17894640-c25f-4ed3-adf9-25fd0f3bf684"
   },
   "outputs": [
    {
     "data": {
      "image/png": "[encoded data removed]",
      "text/latex": [
       "$\\displaystyle A e^{- \\alpha t} \\cos{\\left(\\omega_{0} t + \\theta \\right)}$"
      ],
      "text/plain": [
       "   -α⋅t              \n",
       "A⋅ℯ    ⋅cos(ω₀⋅t + θ)"
      ]
     },
     "execution_count": 466,
     "metadata": {},
     "output_type": "execute_result"
    }
   ],
   "source": [
    "x1=x.expr\n",
    "x1"
   ]
  },
  {
   "cell_type": "code",
   "execution_count": null,
   "metadata": {
    "colab": {
     "base_uri": "https://localhost:8080/",
     "height": 38
    },
    "id": "zNiKS3GI87bp",
    "outputId": "2bcf54db-bbda-404d-dc0a-b6848259f0a8"
   },
   "outputs": [
    {
     "data": {
      "image/png": "[encoded data removed]",
      "text/latex": [
       "$\\displaystyle A e^{- \\alpha t} \\cos{\\left(\\omega_{0} t + \\theta \\right)}$"
      ],
      "text/plain": [
       "   -α⋅t              \n",
       "A⋅ℯ    ⋅cos(ω₀⋅t + θ)"
      ]
     },
     "execution_count": 467,
     "metadata": {},
     "output_type": "execute_result"
    }
   ],
   "source": [
    "#x.partfrac().expr"
   ]
  },
  {
   "cell_type": "code",
   "execution_count": null,
   "metadata": {
    "colab": {
     "base_uri": "https://localhost:8080/",
     "height": 59
    },
    "id": "sHQA5DF72f1T",
    "outputId": "2c0265a0-7fb9-44fb-a368-885f07d6e39e"
   },
   "outputs": [
    {
     "data": {
      "image/png": "[encoded data removed]",
      "text/latex": [
       "$\\displaystyle \\frac{A \\left(- \\omega_{0} \\sin{\\left(\\theta \\right)} + \\left(\\alpha + s\\right) \\cos{\\left(\\theta \\right)}\\right)}{\\omega_{0}^{2} + \\left(\\alpha + s\\right)^{2}}$"
      ],
      "text/plain": [
       "A⋅(-ω₀⋅sin(θ) + (α + s)⋅cos(θ))\n",
       "───────────────────────────────\n",
       "           2          2        \n",
       "         ω₀  + (α + s)         "
      ]
     },
     "execution_count": 468,
     "metadata": {},
     "output_type": "execute_result"
    }
   ],
   "source": [
    "X = x(s)\n",
    "X.expr"
   ]
  },
  {
   "cell_type": "code",
   "execution_count": null,
   "metadata": {
    "colab": {
     "base_uri": "https://localhost:8080/",
     "height": 56
    },
    "id": "IJVfbDqb2f3E",
    "outputId": "6237e78b-623b-405a-e267-4cd412d22b4e"
   },
   "outputs": [
    {
     "data": {
      "image/png": "[encoded data removed]",
      "text/latex": [
       "$\\displaystyle \\frac{\\mathrm{j} A \\left(\\alpha \\cos{\\left(\\theta \\right)} - \\omega_{0} \\sin{\\left(\\theta \\right)} + \\left(- \\alpha - \\mathrm{j} \\omega_{0}\\right) \\cos{\\left(\\theta \\right)}\\right)}{2 \\omega_{0} \\left(\\alpha + \\mathrm{j} \\omega_{0} + s\\right)} - \\frac{\\mathrm{j} A \\left(\\alpha \\cos{\\left(\\theta \\right)} - \\omega_{0} \\sin{\\left(\\theta \\right)} + \\left(- \\alpha + \\mathrm{j} \\omega_{0}\\right) \\cos{\\left(\\theta \\right)}\\right)}{2 \\omega_{0} \\left(\\alpha - \\mathrm{j} \\omega_{0} + s\\right)}$"
      ],
      "text/plain": [
       "ⅉ⋅A⋅(α⋅cos(θ) - ω₀⋅sin(θ) + (-α - ⅉ⋅ω₀)⋅cos(θ))   ⅉ⋅A⋅(α⋅cos(θ) - ω₀⋅sin(θ) + \n",
       "─────────────────────────────────────────────── - ────────────────────────────\n",
       "              2⋅ω₀⋅(α + ⅉ⋅ω₀ + s)                               2⋅ω₀⋅(α - ⅉ⋅ω₀\n",
       "\n",
       "(-α + ⅉ⋅ω₀)⋅cos(θ))\n",
       "───────────────────\n",
       " + s)              "
      ]
     },
     "execution_count": 469,
     "metadata": {},
     "output_type": "execute_result"
    }
   ],
   "source": [
    "X.partfrac().expr"
   ]
  },
  {
   "cell_type": "code",
   "execution_count": null,
   "metadata": {
    "colab": {
     "base_uri": "https://localhost:8080/",
     "height": 57
    },
    "id": "HzdTjgP62f4O",
    "outputId": "a1dbee8a-3b13-44d4-9719-2c58eef124bc"
   },
   "outputs": [
    {
     "data": {
      "image/png": "[encoded data removed]",
      "text/latex": [
       "$\\displaystyle \\frac{A \\left(\\alpha \\cos{\\left(\\theta \\right)} - \\omega_{0} \\sin{\\left(\\theta \\right)} + s \\cos{\\left(\\theta \\right)}\\right)}{\\alpha^{2} + 2 \\alpha s + \\omega_{0}^{2} + s^{2}}$"
      ],
      "text/plain": [
       "A⋅(α⋅cos(θ) - ω₀⋅sin(θ) + s⋅cos(θ))\n",
       "───────────────────────────────────\n",
       "        2             2    2       \n",
       "       α  + 2⋅α⋅s + ω₀  + s        "
      ]
     },
     "execution_count": 470,
     "metadata": {},
     "output_type": "execute_result"
    }
   ],
   "source": [
    "X.partfrac().simplify().expr"
   ]
  },
  {
   "cell_type": "code",
   "execution_count": null,
   "metadata": {
    "colab": {
     "base_uri": "https://localhost:8080/",
     "height": 56
    },
    "id": "EP_penS1-Alt",
    "outputId": "6c69d2e8-0067-4452-ee46-f5f2b2e6ccfd"
   },
   "outputs": [
    {
     "data": {
      "image/png": "[encoded data removed]",
      "text/latex": [
       "$\\displaystyle \\frac{A \\left(\\sin{\\left(\\theta \\right)} - \\mathrm{j} \\cos{\\left(\\theta \\right)}\\right)}{2 \\left(- \\mathrm{j} \\alpha - \\omega_{0} - \\mathrm{j} s\\right)} + \\frac{A \\left(\\sin{\\left(\\theta \\right)} + \\mathrm{j} \\cos{\\left(\\theta \\right)}\\right)}{2 \\left(\\mathrm{j} \\alpha - \\omega_{0} + \\mathrm{j} s\\right)}$"
      ],
      "text/plain": [
       "A⋅(sin(θ) - ⅉ⋅cos(θ))   A⋅(sin(θ) + ⅉ⋅cos(θ))\n",
       "───────────────────── + ─────────────────────\n",
       " 2⋅(-ⅉ⋅α - ω₀ - ⅉ⋅s)      2⋅(ⅉ⋅α - ω₀ + ⅉ⋅s) "
      ]
     },
     "execution_count": 471,
     "metadata": {},
     "output_type": "execute_result"
    }
   ],
   "source": [
    "X.partfrac().simplify_terms().expr"
   ]
  },
  {
   "cell_type": "code",
   "execution_count": null,
   "metadata": {
    "colab": {
     "base_uri": "https://localhost:8080/",
     "height": 56
    },
    "id": "WjZUMT9r-NMa",
    "outputId": "db50cd68-eb6c-4d07-a6c6-187bc3346510"
   },
   "outputs": [
    {
     "data": {
      "image/png": "[encoded data removed]",
      "text/latex": [
       "$\\displaystyle \\frac{A \\cos{\\left(\\theta \\right)} \\left(\\alpha - \\omega_{0} \\tan{\\left(\\theta \\right)} + s\\right)}{\\left(\\alpha - \\mathrm{j} \\omega_{0} + s\\right) \\left(\\alpha + \\mathrm{j} \\omega_{0} + s\\right)}$"
      ],
      "text/plain": [
       " A⋅cos(θ)⋅(α - ω₀⋅tan(θ) + s)\n",
       "─────────────────────────────\n",
       "(α - ⅉ⋅ω₀ + s)⋅(α + ⅉ⋅ω₀ + s)"
      ]
     },
     "execution_count": 472,
     "metadata": {},
     "output_type": "execute_result"
    }
   ],
   "source": [
    "X.ZPK().expr"
   ]
  },
  {
   "cell_type": "markdown",
   "metadata": {
    "id": "HkfCr-1v464h"
   },
   "source": [
    "# Laplace analysis of RC low-pass filter"
   ]
  },
  {
   "cell_type": "code",
   "execution_count": null,
   "metadata": {
    "id": "-zmVXKqu-Rlv"
   },
   "outputs": [],
   "source": [
    "from lcapy import Circuit\n",
    "a = Circuit(\"\"\"\n",
    "P1 1 0; down=1.5, v=v_i(t)\n",
    "R 1 2 2; right=1.5\n",
    "C 2 0_2 {1/4}; down\n",
    "W 0 0_2; right\n",
    "W 2 3; right\n",
    "W 0_2 0_3; right\n",
    "P2 3 0_3; down, v^=v_o(t)\"\"\")\n"
   ]
  },
  {
   "cell_type": "markdown",
   "metadata": {
    "id": "_m5-SGpT5RQ5"
   },
   "source": [
    "![python](https://drive.google.com/uc?export=view&id=1G1XMX8iFDKa13Br5YQQz8_huF-Qt2_g7)"
   ]
  },
  {
   "cell_type": "markdown",
   "metadata": {
    "id": "JO1qxeYk8zDW"
   },
   "source": [
    "## 2 ways of creating transfer function"
   ]
  },
  {
   "cell_type": "code",
   "execution_count": null,
   "metadata": {
    "colab": {
     "base_uri": "https://localhost:8080/",
     "height": 52
    },
    "id": "x1shIqrs_nv5",
    "outputId": "66401e95-eb79-4837-9af6-c98d72d18f71"
   },
   "outputs": [
    {
     "data": {
      "image/png": "[encoded data removed]",
      "text/latex": [
       "$\\displaystyle \\frac{2}{s + 2}$"
      ],
      "text/plain": [
       "  2  \n",
       "─────\n",
       "s + 2"
      ]
     },
     "execution_count": 474,
     "metadata": {},
     "output_type": "execute_result"
    }
   ],
   "source": [
    "H = a.transfer(1, 0, 3, 0)\n",
    "H.expr"
   ]
  },
  {
   "cell_type": "code",
   "execution_count": null,
   "metadata": {
    "colab": {
     "base_uri": "https://localhost:8080/",
     "height": 52
    },
    "id": "qXwLjz1y8vNs",
    "outputId": "080a9c58-5359-448a-834d-7105b6aa4ee1"
   },
   "outputs": [
    {
     "data": {
      "image/png": "[encoded data removed]",
      "text/latex": [
       "$\\displaystyle \\frac{2}{s + 2}$"
      ],
      "text/plain": [
       "  2  \n",
       "─────\n",
       "s + 2"
      ]
     },
     "execution_count": 558,
     "metadata": {},
     "output_type": "execute_result"
    }
   ],
   "source": [
    "H = a.P1.transfer('P2')\n",
    "H.expr"
   ]
  },
  {
   "cell_type": "markdown",
   "metadata": {
    "id": "3NSUG7Yo9wpY"
   },
   "source": [
    "## Initializing inpute voltage"
   ]
  },
  {
   "cell_type": "code",
   "execution_count": null,
   "metadata": {
    "id": "dtQNM25K9D7N"
   },
   "outputs": [],
   "source": [
    "v_i = voltage(sin(3 *t) * u(t))"
   ]
  },
  {
   "cell_type": "code",
   "execution_count": null,
   "metadata": {
    "colab": {
     "base_uri": "https://localhost:8080/",
     "height": 38
    },
    "id": "nqm0Qt9C9D92",
    "outputId": "330ba6a4-45a1-49d4-b5ea-31d539c0f9a1"
   },
   "outputs": [
    {
     "data": {
      "image/png": "[encoded data removed]",
      "text/latex": [
       "$\\displaystyle \\sin{\\left(3 t \\right)} u\\left(t\\right)$"
      ],
      "text/plain": [
       "sin(3⋅t)⋅u(t)"
      ]
     },
     "execution_count": 560,
     "metadata": {},
     "output_type": "execute_result"
    }
   ],
   "source": [
    "v_i.expr"
   ]
  },
  {
   "cell_type": "code",
   "execution_count": null,
   "metadata": {
    "colab": {
     "base_uri": "https://localhost:8080/",
     "height": 52
    },
    "id": "UetMOMtm9EA2",
    "outputId": "e99b3367-81dc-418f-fdf8-2011851d5a02"
   },
   "outputs": [
    {
     "data": {
      "image/png": "[encoded data removed]",
      "text/latex": [
       "$\\displaystyle \\frac{3}{s^{2} + 9}$"
      ],
      "text/plain": [
       "  3   \n",
       "──────\n",
       " 2    \n",
       "s  + 9"
      ]
     },
     "execution_count": 561,
     "metadata": {},
     "output_type": "execute_result"
    }
   ],
   "source": [
    "V_i = v_i(s)\n",
    "V_i.expr"
   ]
  },
  {
   "cell_type": "markdown",
   "metadata": {
    "id": "VYbnnoI192UO"
   },
   "source": [
    "## Finding the output response of the system"
   ]
  },
  {
   "cell_type": "code",
   "execution_count": null,
   "metadata": {
    "colab": {
     "base_uri": "https://localhost:8080/",
     "height": 55
    },
    "id": "89fqP3C19EDG",
    "outputId": "325466da-ec84-45f6-c29c-fb388a6e7d9d"
   },
   "outputs": [
    {
     "data": {
      "image/png": "[encoded data removed]",
      "text/latex": [
       "$\\displaystyle \\frac{6}{\\left(s + 2\\right) \\left(s^{2} + 9\\right)}$"
      ],
      "text/plain": [
       "       6        \n",
       "────────────────\n",
       "        ⎛ 2    ⎞\n",
       "(s + 2)⋅⎝s  + 9⎠"
      ]
     },
     "execution_count": 562,
     "metadata": {},
     "output_type": "execute_result"
    }
   ],
   "source": [
    "V_o = V_i * H\n",
    "V_o.expr"
   ]
  },
  {
   "cell_type": "code",
   "execution_count": null,
   "metadata": {
    "colab": {
     "base_uri": "https://localhost:8080/",
     "height": 55
    },
    "id": "aJ9XRV-C9EFp",
    "outputId": "b4452899-213c-4bae-bb2a-9af0d7a3f80c"
   },
   "outputs": [
    {
     "data": {
      "image/png": "[encoded data removed]",
      "text/latex": [
       "$\\displaystyle \\frac{6}{\\left(s + 2\\right) \\left(s - 3 \\mathrm{j}\\right) \\left(s + 3 \\mathrm{j}\\right)}$"
      ],
      "text/plain": [
       "             6             \n",
       "───────────────────────────\n",
       "(s + 2)⋅(s - 3⋅ⅉ)⋅(s + 3⋅ⅉ)"
      ]
     },
     "execution_count": 563,
     "metadata": {},
     "output_type": "execute_result"
    }
   ],
   "source": [
    "V_o.ZPK().expr"
   ]
  },
  {
   "cell_type": "code",
   "execution_count": null,
   "metadata": {
    "colab": {
     "base_uri": "https://localhost:8080/",
     "height": 58
    },
    "id": "-sTlwD3G9EIS",
    "outputId": "4a4eeda3-eb14-4e41-cff7-c3c3b47925c5"
   },
   "outputs": [
    {
     "data": {
      "image/png": "[encoded data removed]",
      "text/latex": [
       "$\\displaystyle 6 \\left(\\frac{2 \\sin{\\left(3 t \\right)}}{39} - \\frac{\\cos{\\left(3 t \\right)}}{13} + \\frac{\\left(-2 - 3 \\mathrm{j}\\right) \\left(-2 + 3 \\mathrm{j}\\right) e^{- 2 t}}{169}\\right) u\\left(t\\right)$"
      ],
      "text/plain": [
       "  ⎛                                               -2⋅t⎞     \n",
       "  ⎜2⋅sin(3⋅t)   cos(3⋅t)   (-2 - 3⋅ⅉ)⋅(-2 + 3⋅ⅉ)⋅ℯ    ⎟     \n",
       "6⋅⎜────────── - ──────── + ───────────────────────────⎟⋅u(t)\n",
       "  ⎝    39          13                  169            ⎠     "
      ]
     },
     "execution_count": 564,
     "metadata": {},
     "output_type": "execute_result"
    }
   ],
   "source": [
    "v_o = V_o(t)\n",
    "v_o.expr"
   ]
  },
  {
   "cell_type": "code",
   "execution_count": null,
   "metadata": {
    "colab": {
     "base_uri": "https://localhost:8080/",
     "height": 54
    },
    "id": "gT2ZR7JP9EK4",
    "outputId": "b9e29f5f-7ece-40b3-9f09-8c71a4a68ffd"
   },
   "outputs": [
    {
     "data": {
      "image/png": "[encoded data removed]",
      "text/latex": [
       "$\\displaystyle \\frac{4 \\sin{\\left(3 t \\right)} u\\left(t\\right)}{13} - \\frac{6 \\cos{\\left(3 t \\right)} u\\left(t\\right)}{13} + \\frac{6 e^{- 2 t} u\\left(t\\right)}{13}$"
      ],
      "text/plain": [
       "                                       -2⋅t     \n",
       "4⋅sin(3⋅t)⋅u(t)   6⋅cos(3⋅t)⋅u(t)   6⋅ℯ    ⋅u(t)\n",
       "─────────────── - ─────────────── + ────────────\n",
       "       13                13              13     "
      ]
     },
     "execution_count": 565,
     "metadata": {},
     "output_type": "execute_result"
    }
   ],
   "source": [
    "v_o.simplify_terms().expr"
   ]
  },
  {
   "cell_type": "markdown",
   "metadata": {
    "id": "2jLeEkiF99xH"
   },
   "source": [
    "## Plotting input vs output voltage in one plot"
   ]
  },
  {
   "cell_type": "code",
   "execution_count": null,
   "metadata": {
    "colab": {
     "base_uri": "https://localhost:8080/",
     "height": 296
    },
    "id": "87lXx1pc9mu2",
    "outputId": "309761b0-c866-4159-ddf3-39b8fcca76ea"
   },
   "outputs": [
    {
     "data": {
      "text/plain": [
       "<matplotlib.legend.Legend at 0x7f023c335b50>"
      ]
     },
     "execution_count": 566,
     "metadata": {},
     "output_type": "execute_result"
    },
    {
     "data": {
      "image/png": "[encoded data removed]",
      "text/plain": [
       "<Figure size 432x288 with 1 Axes>"
      ]
     },
     "metadata": {
      "needs_background": "light"
     },
     "output_type": "display_data"
    }
   ],
   "source": [
    "ax = v_i.plot((-1, 10), label='input')\n",
    "ax = v_o.plot((-1, 10), axes=ax, label='output')\n",
    "ax.legend()"
   ]
  },
  {
   "cell_type": "markdown",
   "metadata": {
    "id": "kIVYHya9-Yu9"
   },
   "source": [
    "## Phase of the transfer function"
   ]
  },
  {
   "cell_type": "code",
   "execution_count": null,
   "metadata": {
    "colab": {
     "base_uri": "https://localhost:8080/",
     "height": 296
    },
    "id": "v31IQ2Uh9mxc",
    "outputId": "308ddf09-86d4-4e8e-bbcf-0f85f8b65b24"
   },
   "outputs": [
    {
     "data": {
      "text/plain": [
       "<matplotlib.axes._subplots.AxesSubplot at 0x7f023c410c90>"
      ]
     },
     "execution_count": 567,
     "metadata": {},
     "output_type": "execute_result"
    },
    {
     "data": {
      "image/png": "[encoded data removed]",
      "text/plain": [
       "<Figure size 432x288 with 1 Axes>"
      ]
     },
     "metadata": {
      "needs_background": "light"
     },
     "output_type": "display_data"
    }
   ],
   "source": [
    "H(jw).phase_degrees.plot((0, 10))"
   ]
  },
  {
   "cell_type": "markdown",
   "metadata": {
    "id": "vUv1yK5L-fkF"
   },
   "source": [
    "## Magnitude of the transfer function"
   ]
  },
  {
   "cell_type": "code",
   "execution_count": null,
   "metadata": {
    "colab": {
     "base_uri": "https://localhost:8080/",
     "height": 296
    },
    "id": "gpbPpPpu9m0H",
    "outputId": "78c8c906-4211-47c7-abb9-cf7095305328"
   },
   "outputs": [
    {
     "data": {
      "text/plain": [
       "<matplotlib.axes._subplots.AxesSubplot at 0x7f023c532b10>"
      ]
     },
     "execution_count": 568,
     "metadata": {},
     "output_type": "execute_result"
    },
    {
     "data": {
      "image/png": "[encoded data removed]",
      "text/plain": [
       "<Figure size 432x288 with 1 Axes>"
      ]
     },
     "metadata": {
      "needs_background": "light"
     },
     "output_type": "display_data"
    }
   ],
   "source": [
    "H(jw).magnitude.plot((0, 10))"
   ]
  },
  {
   "cell_type": "markdown",
   "metadata": {
    "id": "Bd5SZqn7Hgmx"
   },
   "source": [
    "# **Laplace Transform**"
   ]
  },
  {
   "cell_type": "code",
   "execution_count": null,
   "metadata": {
    "colab": {
     "base_uri": "https://localhost:8080/",
     "height": 52
    },
    "id": "f9c08QctHlAs",
    "outputId": "c95ad7cf-399e-4bfb-86d1-f141af77f4f4"
   },
   "outputs": [
    {
     "data": {
      "image/png": "[encoded data removed]",
      "text/latex": [
       "$\\displaystyle \\frac{s}{4 \\pi^{2} f_{0}^{2} + s^{2}}$"
      ],
      "text/plain": [
       "      s      \n",
       "─────────────\n",
       "   2   2    2\n",
       "4⋅π ⋅f₀  + s "
      ]
     },
     "execution_count": 596,
     "metadata": {},
     "output_type": "execute_result"
    }
   ],
   "source": [
    "f0 = symbol('f0')\n",
    "cos(2 * pi * f0 * t).LT().expr"
   ]
  },
  {
   "cell_type": "code",
   "execution_count": null,
   "metadata": {
    "colab": {
     "base_uri": "https://localhost:8080/",
     "height": 52
    },
    "id": "NZtS5RHuHlDR",
    "outputId": "0e0a76c2-78f3-4e55-c9f4-d208dde3a83f"
   },
   "outputs": [
    {
     "data": {
      "image/png": "[encoded data removed]",
      "text/latex": [
       "$\\displaystyle \\frac{s}{4 \\pi^{2} f_{0}^{2} + s^{2}}$"
      ],
      "text/plain": [
       "      s      \n",
       "─────────────\n",
       "   2   2    2\n",
       "4⋅π ⋅f₀  + s "
      ]
     },
     "execution_count": 597,
     "metadata": {},
     "output_type": "execute_result"
    }
   ],
   "source": [
    "f0 = symbol('f0')\n",
    "cos(2 * pi * f0 * t)(s).expr"
   ]
  },
  {
   "cell_type": "code",
   "execution_count": null,
   "metadata": {
    "colab": {
     "base_uri": "https://localhost:8080/",
     "height": 53
    },
    "id": "E3JrshC9KR2T",
    "outputId": "6874a0fb-f947-4dc4-c4a9-3fe9945834a4"
   },
   "outputs": [
    {
     "data": {
      "image/png": "[encoded data removed]",
      "text/latex": [
       "$\\displaystyle \\frac{K}{\\alpha + s}$"
      ],
      "text/plain": [
       "  K  \n",
       "─────\n",
       "α + s"
      ]
     },
     "execution_count": 607,
     "metadata": {},
     "output_type": "execute_result"
    }
   ],
   "source": [
    "H1 = 3 / (s + 2)\n",
    "H1p, defs = H1.parameterize()\n",
    "H1p.expr\n"
   ]
  },
  {
   "cell_type": "code",
   "execution_count": null,
   "metadata": {
    "colab": {
     "base_uri": "https://localhost:8080/"
    },
    "id": "cqTT86nMKUXK",
    "outputId": "16b0433c-ab51-4400-9ad0-92ac672e4eb3"
   },
   "outputs": [
    {
     "data": {
      "text/plain": [
       "{'K': 3, 'alpha': 2}"
      ]
     },
     "execution_count": 608,
     "metadata": {},
     "output_type": "execute_result"
    }
   ],
   "source": [
    "defs.expr"
   ]
  },
  {
   "cell_type": "code",
   "execution_count": null,
   "metadata": {
    "colab": {
     "base_uri": "https://localhost:8080/",
     "height": 52
    },
    "id": "5T4ePG2yKhSq",
    "outputId": "ac03d50d-754a-4155-ed16-11d6bd75afcc"
   },
   "outputs": [
    {
     "data": {
      "image/png": "[encoded data removed]",
      "text/latex": [
       "$\\displaystyle \\frac{3}{s + 2}$"
      ],
      "text/plain": [
       "  3  \n",
       "─────\n",
       "s + 2"
      ]
     },
     "execution_count": 609,
     "metadata": {},
     "output_type": "execute_result"
    }
   ],
   "source": [
    "H1p.subs(defs).expr"
   ]
  },
  {
   "cell_type": "markdown",
   "metadata": {
    "id": "mSb_e3r9IXoj"
   },
   "source": [
    "# **Inverse Laplace Transform**"
   ]
  },
  {
   "cell_type": "code",
   "execution_count": null,
   "metadata": {
    "colab": {
     "base_uri": "https://localhost:8080/",
     "height": 38
    },
    "id": "ojWdxus_HlGg",
    "outputId": "15d68b51-c104-43dc-ae32-bef63a2fe95d"
   },
   "outputs": [
    {
     "data": {
      "image/png": "[encoded data removed]",
      "text/latex": [
       "$\\displaystyle e^{- 2 t} \\;\\; \\text{for}\\: t \\geq 0$"
      ],
      "text/plain": [
       " -2⋅t           \n",
       "ℯ      for t ≥ 0"
      ]
     },
     "execution_count": 602,
     "metadata": {},
     "output_type": "execute_result"
    }
   ],
   "source": [
    "H = 1 / (s + 2)\n",
    "H(t).expr"
   ]
  },
  {
   "cell_type": "code",
   "execution_count": null,
   "metadata": {
    "colab": {
     "base_uri": "https://localhost:8080/",
     "height": 38
    },
    "id": "PkhnWB38HlIu",
    "outputId": "b0996b03-68b5-4e7b-afb8-63cb04f8bffd"
   },
   "outputs": [
    {
     "data": {
      "image/png": "[encoded data removed]",
      "text/latex": [
       "$\\displaystyle e^{- 2 t} u\\left(t\\right)$"
      ],
      "text/plain": [
       " -2⋅t     \n",
       "ℯ    ⋅u(t)"
      ]
     },
     "execution_count": 603,
     "metadata": {},
     "output_type": "execute_result"
    }
   ],
   "source": [
    "H(t, causal=True).expr"
   ]
  },
  {
   "cell_type": "code",
   "execution_count": null,
   "metadata": {
    "colab": {
     "base_uri": "https://localhost:8080/",
     "height": 38
    },
    "id": "zFEkbb4EHlOe",
    "outputId": "d93a861a-90fb-4117-9a01-abe1ed8ca399"
   },
   "outputs": [
    {
     "data": {
      "image/png": "[encoded data removed]",
      "text/latex": [
       "$\\displaystyle e^{- 2 t}$"
      ],
      "text/plain": [
       " -2⋅t\n",
       "ℯ    "
      ]
     },
     "execution_count": 604,
     "metadata": {},
     "output_type": "execute_result"
    }
   ],
   "source": [
    "H(t, ac=True).expr"
   ]
  },
  {
   "cell_type": "markdown",
   "metadata": {
    "id": "bC_UUNe7Ja5z"
   },
   "source": [
    "## Plotting zeros/poles"
   ]
  },
  {
   "cell_type": "code",
   "execution_count": null,
   "metadata": {
    "colab": {
     "base_uri": "https://localhost:8080/",
     "height": 312
    },
    "id": "ORhylh4SJdVi",
    "outputId": "cb07792f-462d-44d9-aeb9-14dc71595c62"
   },
   "outputs": [
    {
     "data": {
      "text/plain": [
       "<matplotlib.axes._subplots.AxesSubplot at 0x7f023bfd7350>"
      ]
     },
     "execution_count": 605,
     "metadata": {},
     "output_type": "execute_result"
    },
    {
     "data": {
      "image/png": "[encoded data removed]",
      "text/plain": [
       "<Figure size 432x288 with 1 Axes>"
      ]
     },
     "metadata": {
      "needs_background": "light"
     },
     "output_type": "display_data"
    }
   ],
   "source": [
    "H = s / (s + 2)\n",
    "H.plot(xlabel=r'$\\sigma$', ylabel=r'$\\omega$', title='Pole zero plot')"
   ]
  },
  {
   "cell_type": "code",
   "execution_count": null,
   "metadata": {
    "colab": {
     "base_uri": "https://localhost:8080/",
     "height": 279
    },
    "id": "fdjGvw_IJysp",
    "outputId": "70aaf061-51a7-4df1-e126-c6c84162f60d"
   },
   "outputs": [
    {
     "data": {
      "image/png": "[encoded data removed]",
      "text/plain": [
       "<Figure size 432x288 with 1 Axes>"
      ]
     },
     "metadata": {
      "needs_background": "light"
     },
     "output_type": "display_data"
    }
   ],
   "source": [
    "from lcapy import s, j, transfer\n",
    "from matplotlib.pyplot import savefig\n",
    "\n",
    "H = transfer((s - 2) * (s + 3) / (s * (s - 2 * j) * (s + 2 * j)))\n",
    "H.plot()\n",
    "\n",
    "savefig('tf1-pole-zero-plot.png')"
   ]
  },
  {
   "cell_type": "markdown",
   "metadata": {
    "id": "t589fe3DTX-s"
   },
   "source": [
    "# **Network**"
   ]
  },
  {
   "cell_type": "markdown",
   "metadata": {
    "id": "YXU5pPkYTiyk"
   },
   "source": [
    "## Networks can be constructed using series and parallel combination of one-port network elements and other networks.\n",
    "## The basic circuit components are two-terminal (one-port) devices are:\n",
    "![Network](https://drive.google.com/uc?export=view&id=19ofhzZtcGzaAxSxOLz1yYX9wViVAPzFc)"
   ]
  },
  {
   "cell_type": "code",
   "execution_count": null,
   "metadata": {
    "colab": {
     "base_uri": "https://localhost:8080/",
     "height": 37
    },
    "id": "iDRfsfVATaz8",
    "outputId": "faf22d1b-5ef5-46d5-a7e9-076505074412"
   },
   "outputs": [
    {
     "data": {
      "text/latex": [
       "$((\\mathrm{C}(\\frac{25000000000000003}{24999999999999999}) + \\mathrm{R}(\\frac{50000000000000000}{25000000000000003})) | \\mathrm{C}(3)) + \\mathrm{R}(4)$"
      ],
      "text/plain": [
       "((C(25000000000000003\n",
       "─────────────────\n",
       "24999999999999999) + R(50000000000000000\n",
       "─────────────────\n",
       "25000000000000003)) | C(3)) + R(4)"
      ]
     },
     "execution_count": 668,
     "metadata": {},
     "output_type": "execute_result"
    }
   ],
   "source": [
    "Z = impedance(4*s**2 + 3 * s + 1 / 6) / (s**2 + 2 * s / 3)\n",
    "Z.network()\n",
    "#Z.network().Z(s).canonical().expr"
   ]
  },
  {
   "cell_type": "code",
   "execution_count": null,
   "metadata": {
    "colab": {
     "base_uri": "https://localhost:8080/",
     "height": 61
    },
    "id": "JiWGNldyhzpu",
    "outputId": "433d6763-fbed-40f6-e41d-7799480d2f6f"
   },
   "outputs": [
    {
     "data": {
      "image/png": "[encoded data removed]",
      "text/latex": [
       "$\\displaystyle \\frac{4 s^{2} + 3 s + \\frac{8333333333333333}{50000000000000000}}{s^{2} + \\frac{2 s}{3}}$"
      ],
      "text/plain": [
       "   2          8333333333333333\n",
       "4⋅s  + 3⋅s + ─────────────────\n",
       "             50000000000000000\n",
       "──────────────────────────────\n",
       "            2   2⋅s           \n",
       "           s  + ───           \n",
       "                 3            "
      ]
     },
     "execution_count": 669,
     "metadata": {},
     "output_type": "execute_result"
    }
   ],
   "source": [
    "Z.network().Z(s).canonical().expr"
   ]
  },
  {
   "cell_type": "markdown",
   "metadata": {
    "id": "MT9ShPa-UUc9"
   },
   "source": [
    "## Series R-C network"
   ]
  },
  {
   "cell_type": "code",
   "execution_count": null,
   "metadata": {
    "colab": {
     "base_uri": "https://localhost:8080/",
     "height": 282
    },
    "id": "vu0qNlzSTa2v",
    "outputId": "f5d27bd3-3fd4-4280-ed98-66c8707a75c3"
   },
   "outputs": [
    {
     "data": {
      "image/png": "[encoded data removed]",
      "text/plain": [
       "<Figure size 432x288 with 1 Axes>"
      ]
     },
     "metadata": {
      "needs_background": "light"
     },
     "output_type": "display_data"
    }
   ],
   "source": [
    "from lcapy import *\n",
    "from numpy import logspace\n",
    "from matplotlib.pyplot import figure, savefig\n",
    "\n",
    "N = R(10) + C(1e-4)\n",
    "\n",
    "vf = logspace(0, 5, 400)\n",
    "Z = N.Z(f).evaluate(vf)\n",
    "\n",
    "fig = figure()\n",
    "ax = fig.add_subplot(111)\n",
    "ax.loglog(vf, abs(Z), linewidth=2)\n",
    "ax.set_xlabel('Frequency (Hz)')\n",
    "ax.set_ylabel('Impedance (ohms)')\n",
    "ax.grid(True)"
   ]
  },
  {
   "cell_type": "code",
   "execution_count": null,
   "metadata": {
    "colab": {
     "base_uri": "https://localhost:8080/",
     "height": 279
    },
    "id": "Zsw_jlw6Wa5S",
    "outputId": "32a847b5-06f4-42d6-a379-d04155efaac8"
   },
   "outputs": [
    {
     "data": {
      "image/png": "[encoded data removed]",
      "text/plain": [
       "<Figure size 432x288 with 1 Axes>"
      ]
     },
     "metadata": {
      "needs_background": "light"
     },
     "output_type": "display_data"
    }
   ],
   "source": [
    "from lcapy import *\n",
    "from numpy import linspace\n",
    "from matplotlib.pyplot import savefig\n",
    "\n",
    "N = Vstep(20) + R(10) + C(1e-4, 0)\n",
    "\n",
    "vt = linspace(0, 0.01, 1000)\n",
    "N.Isc(t).plot(vt)\n",
    "\n",
    "savefig('series-VRC1-isc.png')"
   ]
  },
  {
   "cell_type": "markdown",
   "metadata": {
    "id": "J_BhmQclUnsN"
   },
   "source": [
    "## Parallel R-L-C network"
   ]
  },
  {
   "cell_type": "code",
   "execution_count": null,
   "metadata": {
    "colab": {
     "base_uri": "https://localhost:8080/",
     "height": 282
    },
    "id": "iffbWLmeTa8q",
    "outputId": "a3f57a1c-50cc-446b-af60-d4173f92b4c2"
   },
   "outputs": [
    {
     "data": {
      "image/png": "[encoded data removed]",
      "text/plain": [
       "<Figure size 432x288 with 1 Axes>"
      ]
     },
     "metadata": {
      "needs_background": "light"
     },
     "output_type": "display_data"
    }
   ],
   "source": [
    "from lcapy import *\n",
    "from numpy import logspace\n",
    "from matplotlib.pyplot import figure, savefig\n",
    "\n",
    "N = R(10) | C(1e-4) | L(1e-3)\n",
    "\n",
    "vf = logspace(0, 5, 400)\n",
    "Z = N.Z(f).evaluate(vf)\n",
    "\n",
    "fig = figure()\n",
    "ax = fig.add_subplot(111)\n",
    "ax.loglog(vf, abs(Z), linewidth=2)\n",
    "ax.set_xlabel('Frequency (Hz)')\n",
    "ax.set_ylabel('Impedance (ohms)')\n",
    "ax.grid(True)\n",
    "\n",
    "\n",
    "savefig('parallel-RLC3-Z.png')"
   ]
  },
  {
   "cell_type": "markdown",
   "metadata": {
    "id": "K9sEnZcTU24L"
   },
   "source": [
    "## Using Circuit"
   ]
  },
  {
   "cell_type": "code",
   "execution_count": null,
   "metadata": {
    "colab": {
     "base_uri": "https://localhost:8080/",
     "height": 279
    },
    "id": "SL30wnHvTa-1",
    "outputId": "c32993f9-e128-4936-f358-357eb048571e"
   },
   "outputs": [
    {
     "data": {
      "image/png": "[encoded data removed]",
      "text/plain": [
       "<Figure size 432x288 with 1 Axes>"
      ]
     },
     "metadata": {
      "needs_background": "light"
     },
     "output_type": "display_data"
    }
   ],
   "source": [
    "from lcapy import Circuit\n",
    "\n",
    "cct = Circuit(\"\"\"\n",
    "V 1 0 step 20\n",
    "R 1 2 10\n",
    "C 2 0 1e-4\n",
    "\"\"\")\n",
    "\n",
    "import numpy as np\n",
    "t1 = np.linspace(0, 0.01, 1000)\n",
    "vc = cct.C.v.evaluate(t1)# note the syntax\n",
    "\n",
    "from matplotlib.pyplot import subplots, savefig\n",
    "fig, ax = subplots(1)\n",
    "ax.plot(t1, vc, linewidth=2)\n",
    "ax.set_xlabel('Time (s)')\n",
    "ax.set_ylabel('Capacitor voltage (V)')\n",
    "ax.grid(True)\n",
    "\n",
    "savefig('circuit-VRC1-vc.png')"
   ]
  },
  {
   "cell_type": "code",
   "execution_count": null,
   "metadata": {
    "colab": {
     "base_uri": "https://localhost:8080/",
     "height": 279
    },
    "id": "QzaioMc7TbBJ",
    "outputId": "b48819be-1452-4281-fe62-0850df4f943c"
   },
   "outputs": [
    {
     "data": {
      "image/png": "[encoded data removed]",
      "text/plain": [
       "<Figure size 432x288 with 1 Axes>"
      ]
     },
     "metadata": {
      "needs_background": "light"
     },
     "output_type": "display_data"
    }
   ],
   "source": [
    "from lcapy import Circuit\n",
    "cct = Circuit(\"\"\"\n",
    "V 1 0 step 10; down\n",
    "L 1 2 1e-3; right, size=1.2\n",
    "C 2 3 1e-4; right, size=1.2\n",
    "R 3 0_1 10; down\n",
    "W 0 0_1; right\n",
    "\"\"\")\n",
    "\n",
    "import numpy as np\n",
    "t1 = np.linspace(0, 0.01, 1000) # note the syntax\n",
    "vr = cct.R.v.evaluate(t1)\n",
    "\n",
    "from matplotlib.pyplot import subplots, savefig\n",
    "fig, ax = subplots(1)\n",
    "ax.plot(t1, vr, linewidth=2)\n",
    "ax.set_xlabel('Time (s)')\n",
    "ax.set_ylabel('Resistor voltage (V)')\n",
    "ax.grid(True)\n",
    "\n",
    "savefig('circuit-VRLC1-vr.png')"
   ]
  },
  {
   "cell_type": "markdown",
   "metadata": {
    "id": "Av6EDH5G_KcQ"
   },
   "source": [
    "# Discrete-time signals"
   ]
  },
  {
   "cell_type": "markdown",
   "metadata": {
    "id": "CKHwUyAp_fX9"
   },
   "source": [
    "## There are a number of domain variables for discrete-time signals:\n",
    "![image](https://drive.google.com/uc?export=view&id=1JGZlOSFO0h8x3xI4BUBa1W-Elg98aTQY)"
   ]
  },
  {
   "cell_type": "code",
   "execution_count": null,
   "metadata": {
    "colab": {
     "base_uri": "https://localhost:8080/",
     "height": 188
    },
    "id": "OVpHMk2X_XSl",
    "outputId": "50f9e9e6-baff-4f04-fdec-2df9349975a6"
   },
   "outputs": [
    {
     "data": {
      "text/plain": [
       "<matplotlib.axes._subplots.AxesSubplot at 0x7f023c4b3350>"
      ]
     },
     "execution_count": 569,
     "metadata": {},
     "output_type": "execute_result"
    },
    {
     "data": {
      "image/png": "[encoded data removed]",
      "text/plain": [
       "<Figure size 432x144 with 1 Axes>"
      ]
     },
     "metadata": {
      "needs_background": "light"
     },
     "output_type": "display_data"
    }
   ],
   "source": [
    "from lcapy import n, delta\n",
    "from matplotlib.pyplot import savefig\n",
    "\n",
    "x = delta(n) + delta(n - 2)\n",
    "x.plot(figsize=(6, 2))\n"
   ]
  },
  {
   "cell_type": "code",
   "execution_count": null,
   "metadata": {
    "colab": {
     "base_uri": "https://localhost:8080/",
     "height": 412
    },
    "id": "f8Oi4lvmAgS4",
    "outputId": "3d733ebd-9c98-4642-8760-e67a5d2e8010"
   },
   "outputs": [
    {
     "data": {
      "text/plain": [
       "<matplotlib.axes._subplots.PolarAxesSubplot at 0x7f023c0f2cd0>"
      ]
     },
     "execution_count": 571,
     "metadata": {},
     "output_type": "execute_result"
    },
    {
     "data": {
      "image/png": "[encoded data removed]",
      "text/plain": [
       "<Figure size 432x432 with 1 Axes>"
      ]
     },
     "metadata": {
      "needs_background": "light"
     },
     "output_type": "display_data"
    }
   ],
   "source": [
    "from lcapy import j, n, exp\n",
    "from matplotlib.pyplot import savefig\n",
    "\n",
    "x = 0.9**n * exp(j * n * 0.5)\n",
    "x.plot((1, 10), figsize=(6, 6), polar=True)\n"
   ]
  },
  {
   "cell_type": "markdown",
   "metadata": {
    "id": "-0BhiUT9AaDW"
   },
   "source": [
    "#  **Sequences**"
   ]
  },
  {
   "cell_type": "code",
   "execution_count": null,
   "metadata": {
    "colab": {
     "base_uri": "https://localhost:8080/",
     "height": 37
    },
    "id": "_BLSurXq_XX0",
    "outputId": "d3bbc6a1-a141-42ad-bef1-3b84c3061e4e"
   },
   "outputs": [
    {
     "data": {
      "text/latex": [
       "$$\\left\\{0, 0, 0, 0, 0, \\underline{1}, 0, 2, 0, 0, 0\\right\\}$$"
      ],
      "text/plain": [
       "{0, 0, 0, 0, 0, _1, 0, 2, 0, 0, 0}"
      ]
     },
     "execution_count": 572,
     "metadata": {},
     "output_type": "execute_result"
    }
   ],
   "source": [
    "x = delta(n) + 2 * delta(n - 2)\n",
    "my_seq = x.seq((-5, 5))\n",
    "my_seq"
   ]
  },
  {
   "cell_type": "markdown",
   "metadata": {
    "id": "Ex0yHW1xA2j9"
   },
   "source": [
    "##  indexes"
   ]
  },
  {
   "cell_type": "code",
   "execution_count": null,
   "metadata": {
    "colab": {
     "base_uri": "https://localhost:8080/"
    },
    "id": "6StWBxjW_Xag",
    "outputId": "5daa80cd-ebd9-4bda-e30f-98b4b98edf43"
   },
   "outputs": [
    {
     "data": {
      "text/plain": [
       "[-5, -4, -3, -2, -1, 0, 1, 2, 3, 4, 5]"
      ]
     },
     "execution_count": 573,
     "metadata": {},
     "output_type": "execute_result"
    }
   ],
   "source": [
    "my_seq.n"
   ]
  },
  {
   "cell_type": "code",
   "execution_count": null,
   "metadata": {
    "colab": {
     "base_uri": "https://localhost:8080/",
     "height": 37
    },
    "id": "iy55Z4etCNX0",
    "outputId": "1c2beea3-ff83-46c8-d243-45a0438a2906"
   },
   "outputs": [
    {
     "data": {
      "image/png": "[encoded data removed]",
      "text/latex": [
       "$\\displaystyle 1$"
      ],
      "text/plain": [
       "1"
      ]
     },
     "execution_count": 579,
     "metadata": {},
     "output_type": "execute_result"
    }
   ],
   "source": [
    "my_seq(0).expr"
   ]
  },
  {
   "cell_type": "code",
   "execution_count": null,
   "metadata": {
    "colab": {
     "base_uri": "https://localhost:8080/"
    },
    "id": "_wZ2bMtW_Xc3",
    "outputId": "83a69038-d479-4b02-bafd-1008dc2910a0"
   },
   "outputs": [
    {
     "data": {
      "text/plain": [
       "5"
      ]
     },
     "execution_count": 574,
     "metadata": {},
     "output_type": "execute_result"
    }
   ],
   "source": [
    "my_seq.origin"
   ]
  },
  {
   "cell_type": "markdown",
   "metadata": {
    "id": "V8mC_8HtBgsk"
   },
   "source": [
    "## convert to an array"
   ]
  },
  {
   "cell_type": "code",
   "execution_count": null,
   "metadata": {
    "colab": {
     "base_uri": "https://localhost:8080/"
    },
    "id": "oAGhkN__BFOZ",
    "outputId": "14e3c1eb-fe7b-4709-feb3-09a7b8d9cc71"
   },
   "outputs": [
    {
     "data": {
      "text/plain": [
       "array([0., 0., 0., 0., 0., 1., 0., 2., 0., 0., 0.])"
      ]
     },
     "execution_count": 575,
     "metadata": {},
     "output_type": "execute_result"
    }
   ],
   "source": [
    "my_seq.as_array()"
   ]
  },
  {
   "cell_type": "code",
   "execution_count": null,
   "metadata": {
    "colab": {
     "base_uri": "https://localhost:8080/",
     "height": 37
    },
    "id": "QyAysa-xDCa5",
    "outputId": "93a625d7-d03a-439a-bd58-1a4c3f7d63d4"
   },
   "outputs": [
    {
     "data": {
      "text/latex": [
       "$$\\left\\{\\underline{3.14}, 6.28\\right\\}$$"
      ],
      "text/plain": [
       "{_3.14, 6.28}"
      ]
     },
     "execution_count": 584,
     "metadata": {},
     "output_type": "execute_result"
    }
   ],
   "source": [
    "seq((pi, pi * 2)).evalf(3)"
   ]
  },
  {
   "cell_type": "markdown",
   "metadata": {
    "id": "WIFcbc-XB9hN"
   },
   "source": [
    "## sequence opertaions"
   ]
  },
  {
   "cell_type": "code",
   "execution_count": null,
   "metadata": {
    "colab": {
     "base_uri": "https://localhost:8080/",
     "height": 37
    },
    "id": "p2QlPex4CCGu",
    "outputId": "0614d324-fe6d-4038-d22d-9c0d370a07b9"
   },
   "outputs": [
    {
     "data": {
      "text/latex": [
       "$$\\left\\{\\underline{0}, 0, 0, 0, 0, 1, 0, 2, 0, 0, 0, 0, 0, 0, 0, 0, 1, 0, 2, 0, 0, 0\\right\\}$$"
      ],
      "text/plain": [
       "{_0, 0, 0, 0, 0, 1, 0, 2, 0, 0, 0, 0, 0, 0, 0, 0, 1, 0, 2, 0, 0, 0}"
      ]
     },
     "execution_count": 577,
     "metadata": {},
     "output_type": "execute_result"
    }
   ],
   "source": [
    "my_seq+my_seq"
   ]
  },
  {
   "cell_type": "code",
   "execution_count": null,
   "metadata": {
    "colab": {
     "base_uri": "https://localhost:8080/",
     "height": 37
    },
    "id": "_-i1q6J4CDwn",
    "outputId": "20c247c8-a727-477b-fd83-dc0d767c7553"
   },
   "outputs": [
    {
     "data": {
      "text/latex": [
       "$$\\left\\{\\underline{0}, 0, 0, 0, 0, 1, 0, 2, 0, 0, 0, 0, 0, 0, 0, 0, 1, 0, 2, 0, 0, 0\\right\\}$$"
      ],
      "text/plain": [
       "{_0, 0, 0, 0, 0, 1, 0, 2, 0, 0, 0, 0, 0, 0, 0, 0, 1, 0, 2, 0, 0, 0}"
      ]
     },
     "execution_count": 578,
     "metadata": {},
     "output_type": "execute_result"
    }
   ],
   "source": [
    "my_seq*2"
   ]
  },
  {
   "cell_type": "code",
   "execution_count": null,
   "metadata": {
    "colab": {
     "base_uri": "https://localhost:8080/",
     "height": 37
    },
    "id": "ICdRqWP-CZAW",
    "outputId": "0c891625-d025-4002-9216-76bdd9f42416"
   },
   "outputs": [
    {
     "data": {
      "text/latex": [
       "$$\\left\\{\\underline{1}, 2, 3, 4, 5\\right\\}$$"
      ],
      "text/plain": [
       "{_1, 2, 3, 4, 5}"
      ]
     },
     "execution_count": 580,
     "metadata": {},
     "output_type": "execute_result"
    }
   ],
   "source": [
    "seq((1, 2, 3)) + seq('{4, 5}')"
   ]
  },
  {
   "cell_type": "code",
   "execution_count": null,
   "metadata": {
    "colab": {
     "base_uri": "https://localhost:8080/",
     "height": 37
    },
    "id": "tv4vVhvPCc_M",
    "outputId": "b13ca3be-6048-49a8-8820-5256830bdc40"
   },
   "outputs": [
    {
     "data": {
      "text/latex": [
       "$$\\left\\{\\underline{5}, 7, 9\\right\\}$$"
      ],
      "text/plain": [
       "{_5, 7, 9}"
      ]
     },
     "execution_count": 581,
     "metadata": {},
     "output_type": "execute_result"
    }
   ],
   "source": [
    "seq(seq((1, 2, 3)).as_array() + seq('{4, _5, 6}').as_array())"
   ]
  },
  {
   "cell_type": "code",
   "execution_count": null,
   "metadata": {
    "colab": {
     "base_uri": "https://localhost:8080/",
     "height": 37
    },
    "id": "F9AOoQjDDg3T",
    "outputId": "03fa21df-7258-49ad-ee42-58d53bd84121"
   },
   "outputs": [
    {
     "data": {
      "text/latex": [
       "$$\\left\\{0, 0, 0, \\underline{0}, 0, 1, 0, 2, 0, 0, 0\\right\\}$$"
      ],
      "text/plain": [
       "{0, 0, 0, _0, 0, 1, 0, 2, 0, 0, 0}"
      ]
     },
     "execution_count": 587,
     "metadata": {},
     "output_type": "execute_result"
    }
   ],
   "source": [
    "my_seq >> 2"
   ]
  },
  {
   "cell_type": "markdown",
   "metadata": {
    "id": "GQ6Ne7-ECmls"
   },
   "source": [
    "### sequence convolution"
   ]
  },
  {
   "cell_type": "code",
   "execution_count": null,
   "metadata": {
    "colab": {
     "base_uri": "https://localhost:8080/",
     "height": 37
    },
    "id": "B8J0cIFLCgTd",
    "outputId": "5ddb0138-04f8-4aab-824a-ddc4923e5b3a"
   },
   "outputs": [
    {
     "data": {
      "text/latex": [
       "$$\\left\\{\\underline{1}, 3, 5, 3\\right\\}$$"
      ],
      "text/plain": [
       "{_1, 3, 5, 3}"
      ]
     },
     "execution_count": 583,
     "metadata": {},
     "output_type": "execute_result"
    }
   ],
   "source": [
    "seq((1, 2, 3)).convolve(seq((1, 1)))"
   ]
  },
  {
   "cell_type": "markdown",
   "metadata": {
    "id": "DWTvySyCB2R9"
   },
   "source": [
    "### Z-transform on a sequence"
   ]
  },
  {
   "cell_type": "code",
   "execution_count": null,
   "metadata": {
    "colab": {
     "base_uri": "https://localhost:8080/",
     "height": 38
    },
    "id": "GVJ3Zo8MBFRF",
    "outputId": "acc7e804-d752-4c1f-bedc-8b1bddb1eb33"
   },
   "outputs": [
    {
     "data": {
      "text/latex": [
       "$$\\left\\{\\underline{0}, 0, 0, 0, 0, \\frac{1}{z^{5}}, 0, \\frac{2}{z^{7}}, 0, 0, 0\\right\\}$$"
      ],
      "text/plain": [
       "⎧                1      2          ⎫\n",
       "⎪_0, 0, 0, 0, 0, ──, 0, ──, 0, 0, 0⎪\n",
       "⎨                 5      7         ⎬\n",
       "⎪                z      z          ⎪\n",
       "⎩                                  ⎭"
      ]
     },
     "execution_count": 576,
     "metadata": {},
     "output_type": "execute_result"
    }
   ],
   "source": [
    "my_seq.ZT()"
   ]
  },
  {
   "cell_type": "markdown",
   "metadata": {
    "id": "qPhB35qwD-m1"
   },
   "source": [
    "# **Z-domain expressions**"
   ]
  },
  {
   "cell_type": "code",
   "execution_count": null,
   "metadata": {
    "colab": {
     "base_uri": "https://localhost:8080/",
     "height": 51
    },
    "id": "GMOKKLxhBFUU",
    "outputId": "811e5a2f-59f2-4055-e435-2318964632a5"
   },
   "outputs": [
    {
     "data": {
      "image/png": "[encoded data removed]",
      "text/latex": [
       "$\\displaystyle 1 + \\frac{1}{z}$"
      ],
      "text/plain": [
       "    1\n",
       "1 + ─\n",
       "    z"
      ]
     },
     "execution_count": 589,
     "metadata": {},
     "output_type": "execute_result"
    }
   ],
   "source": [
    "(1 + 1 / z).expr"
   ]
  },
  {
   "cell_type": "code",
   "execution_count": null,
   "metadata": {
    "colab": {
     "base_uri": "https://localhost:8080/",
     "height": 279
    },
    "id": "yPuWxLaTF3cm",
    "outputId": "e49dd079-1044-42ed-ae42-7aef4ac9c6b9"
   },
   "outputs": [
    {
     "data": {
      "image/png": "[encoded data removed]",
      "text/plain": [
       "<Figure size 432x288 with 1 Axes>"
      ]
     },
     "metadata": {
      "needs_background": "light"
     },
     "output_type": "display_data"
    }
   ],
   "source": [
    "from lcapy import delta\n",
    "from lcapy.discretetime import n, z\n",
    "from matplotlib.pyplot import savefig\n",
    "\n",
    "x = delta(n) + 2*delta(n - 2)\n",
    "X = x(z)\n",
    "X.plot()\n",
    "\n",
    "savefig('dt1-pole-zero-plot1.png')"
   ]
  },
  {
   "cell_type": "markdown",
   "metadata": {
    "id": "wCL9769sE8dr"
   },
   "source": [
    "## Lcapy implements a number of transforms for converting between different domains. The explicit methods are:\n",
    "![transform](https://drive.google.com/uc?export=view&id=1NUiFMyaemBhh4-24xibgF7BFeJIMlTX2)"
   ]
  },
  {
   "cell_type": "markdown",
   "metadata": {
    "id": "RKBxBkepFPBL"
   },
   "source": [
    "## Z-transform(ZT)"
   ]
  },
  {
   "cell_type": "code",
   "execution_count": null,
   "metadata": {
    "colab": {
     "base_uri": "https://localhost:8080/",
     "height": 51
    },
    "id": "44HNJhsaBFXP",
    "outputId": "a74c1d0c-d61f-4a00-f253-9ddbbaa62ea3"
   },
   "outputs": [
    {
     "data": {
      "image/png": "[encoded data removed]",
      "text/latex": [
       "$\\displaystyle 1 + \\frac{2}{z^{2}}$"
      ],
      "text/plain": [
       "    2 \n",
       "1 + ──\n",
       "     2\n",
       "    z "
      ]
     },
     "execution_count": 590,
     "metadata": {},
     "output_type": "execute_result"
    }
   ],
   "source": [
    "(delta(n) + 2 * delta(n - 2)).ZT().expr"
   ]
  },
  {
   "cell_type": "code",
   "execution_count": null,
   "metadata": {
    "colab": {
     "base_uri": "https://localhost:8080/",
     "height": 51
    },
    "id": "MphDQYTKBFZM",
    "outputId": "4ecf1475-2f17-47aa-d267-c3c553c7ff6d"
   },
   "outputs": [
    {
     "data": {
      "image/png": "[encoded data removed]",
      "text/latex": [
       "$\\displaystyle 1 + \\frac{2}{z^{2}}$"
      ],
      "text/plain": [
       "    2 \n",
       "1 + ──\n",
       "     2\n",
       "    z "
      ]
     },
     "execution_count": 592,
     "metadata": {},
     "output_type": "execute_result"
    }
   ],
   "source": [
    "(delta(n) + 2 * delta(n - 2))(z).expr"
   ]
  },
  {
   "cell_type": "markdown",
   "metadata": {
    "id": "2IEtLUmcoIZD"
   },
   "source": [
    "## Discrete Fourier"
   ]
  },
  {
   "cell_type": "code",
   "execution_count": null,
   "metadata": {
    "colab": {
     "base_uri": "https://localhost:8080/",
     "height": 41
    },
    "id": "d7nLzZRzoqtW",
    "outputId": "57615551-f9bd-4929-fa80-9c637cff9b1e"
   },
   "outputs": [
    {
     "data": {
      "image/png": "[encoded data removed]",
      "text/latex": [
       "$\\displaystyle 1 + 2 e^{- \\frac{4 \\mathrm{j} \\pi k}{N}}$"
      ],
      "text/plain": [
       "       -4⋅ⅉ⋅π⋅k \n",
       "       ─────────\n",
       "           N    \n",
       "1 + 2⋅ℯ         "
      ]
     },
     "execution_count": 670,
     "metadata": {},
     "output_type": "execute_result"
    }
   ],
   "source": [
    "(delta(n) + 2 * delta(n - 2)).DFT().expr"
   ]
  },
  {
   "cell_type": "code",
   "execution_count": null,
   "metadata": {
    "colab": {
     "base_uri": "https://localhost:8080/",
     "height": 41
    },
    "id": "NA7OrXuoGA_C",
    "outputId": "be582731-aec9-4c8a-b604-e3a4a5d11052"
   },
   "outputs": [
    {
     "data": {
      "image/png": "[encoded data removed]",
      "text/latex": [
       "$\\displaystyle 1 + 2 e^{- \\frac{4 \\mathrm{j} \\pi k}{N}}$"
      ],
      "text/plain": [
       "       -4⋅ⅉ⋅π⋅k \n",
       "       ─────────\n",
       "           N    \n",
       "1 + 2⋅ℯ         "
      ]
     },
     "execution_count": 593,
     "metadata": {},
     "output_type": "execute_result"
    }
   ],
   "source": [
    "(delta(n) + 2 * delta(n - 2))(k).expr"
   ]
  },
  {
   "cell_type": "markdown",
   "metadata": {
    "id": "JxI4Bm9JGYxe"
   },
   "source": [
    "## Inverse Z-transform (IZT)"
   ]
  },
  {
   "cell_type": "code",
   "execution_count": null,
   "metadata": {
    "colab": {
     "base_uri": "https://localhost:8080/",
     "height": 38
    },
    "id": "1Ur9--gPGBB9",
    "outputId": "39dde2cc-2b80-4bd6-c5fc-a0f94838a729"
   },
   "outputs": [
    {
     "data": {
      "image/png": "[encoded data removed]",
      "text/latex": [
       "$\\displaystyle a^{n} \\;\\; \\text{for}\\: n \\geq 0$"
      ],
      "text/plain": [
       " n           \n",
       "a   for n ≥ 0"
      ]
     },
     "execution_count": 594,
     "metadata": {},
     "output_type": "execute_result"
    }
   ],
   "source": [
    "H = z / (z - 'a')\n",
    "H(n).expr"
   ]
  },
  {
   "cell_type": "code",
   "execution_count": null,
   "metadata": {
    "colab": {
     "base_uri": "https://localhost:8080/",
     "height": 38
    },
    "id": "5BMnJ1ocGBGP",
    "outputId": "0cabb395-a542-4ed1-ada2-d91b8d3c323f"
   },
   "outputs": [
    {
     "data": {
      "image/png": "[encoded data removed]",
      "text/latex": [
       "$\\displaystyle a^{n} u\\left[n\\right]$"
      ],
      "text/plain": [
       " n     \n",
       "a ⋅u[n]"
      ]
     },
     "execution_count": 595,
     "metadata": {},
     "output_type": "execute_result"
    }
   ],
   "source": [
    "H(n,causal=True).expr"
   ]
  },
  {
   "cell_type": "markdown",
   "metadata": {
    "id": "c1uzSCVbHAHL"
   },
   "source": [
    "## Discrete time Fourier transform (DTFT)"
   ]
  },
  {
   "cell_type": "code",
   "execution_count": null,
   "metadata": {
    "colab": {
     "base_uri": "https://localhost:8080/",
     "height": 55
    },
    "id": "cfquW6ADQQ05",
    "outputId": "1e3adef5-c976-4c45-925f-c92f8c232f93"
   },
   "outputs": [
    {
     "data": {
      "image/png": "[encoded data removed]",
      "text/latex": [
       "$\\displaystyle \\frac{2 e^{2 \\mathrm{j} \\pi \\Delta_{t} f}}{e^{2 \\mathrm{j} \\pi \\Delta_{t} f} - 1}$"
      ],
      "text/plain": [
       "    2⋅ⅉ⋅π⋅Δₜ⋅f \n",
       " 2⋅ℯ           \n",
       "───────────────\n",
       " 2⋅ⅉ⋅π⋅Δₜ⋅f    \n",
       "ℯ           - 1"
      ]
     },
     "execution_count": 506,
     "metadata": {},
     "output_type": "execute_result"
    }
   ],
   "source": []
  },
  {
   "cell_type": "markdown",
   "metadata": {
    "id": "IzT1DgsyOK93"
   },
   "source": [
    "## Plotting"
   ]
  },
  {
   "cell_type": "code",
   "execution_count": null,
   "metadata": {
    "colab": {
     "base_uri": "https://localhost:8080/",
     "height": 225
    },
    "id": "aHCO0D2ROIiW",
    "outputId": "d3441851-faed-4855-f36e-aad90cfb7542"
   },
   "outputs": [
    {
     "data": {
      "image/png": "[encoded data removed]",
      "text/plain": [
       "<Figure size 432x216 with 1 Axes>"
      ]
     },
     "metadata": {
      "needs_background": "light"
     },
     "output_type": "display_data"
    }
   ],
   "source": [
    "from lcapy import delta\n",
    "from lcapy.discretetime import n, dt\n",
    "from matplotlib.pyplot import savefig\n",
    "\n",
    "x = delta(n) + delta(n - 2)\n",
    "abs(x.DTFT().subs(dt, 1)).plot( figsize=(6, 3))\n",
    "\n",
    "savefig('dt1-DTFT-plot1.png', bbox_inches='tight')"
   ]
  },
  {
   "cell_type": "markdown",
   "metadata": {
    "id": "aQV04IsAMSqY"
   },
   "source": [
    "## normalized frequency(F=f*$\\Delta$t)"
   ]
  },
  {
   "cell_type": "code",
   "execution_count": null,
   "metadata": {
    "colab": {
     "base_uri": "https://localhost:8080/",
     "height": 55
    },
    "id": "jbEybdl3K47D",
    "outputId": "dd425e92-9f30-4520-bf43-f21ae6d3d24f"
   },
   "outputs": [
    {
     "data": {
      "image/png": "[encoded data removed]",
      "text/latex": [
       "$\\displaystyle \\frac{2 e^{2 \\mathrm{j} \\pi F}}{e^{2 \\mathrm{j} \\pi F} - 1}$"
      ],
      "text/plain": [
       "    2⋅ⅉ⋅π⋅F \n",
       " 2⋅ℯ        \n",
       "────────────\n",
       " 2⋅ⅉ⋅π⋅F    \n",
       "ℯ        - 1"
      ]
     },
     "execution_count": 612,
     "metadata": {},
     "output_type": "execute_result"
    }
   ],
   "source": [
    "sign(n).DTFT(F).expr"
   ]
  },
  {
   "cell_type": "markdown",
   "metadata": {
    "id": "nAnsIEopNF73"
   },
   "source": [
    "## normalized angular frequency($\\Omega$=2*$\\pi$*$\\Delta$t)"
   ]
  },
  {
   "cell_type": "code",
   "execution_count": null,
   "metadata": {
    "colab": {
     "base_uri": "https://localhost:8080/",
     "height": 55
    },
    "id": "aq52wQ_wK9aK",
    "outputId": "12d3b237-abd5-4138-d489-2d55bd0a1649"
   },
   "outputs": [
    {
     "data": {
      "image/png": "[encoded data removed]",
      "text/latex": [
       "$\\displaystyle \\frac{2 e^{\\mathrm{j} \\Omega}}{e^{\\mathrm{j} \\Omega} - 1}$"
      ],
      "text/plain": [
       "    ⅉ⋅Ω \n",
       " 2⋅ℯ    \n",
       "────────\n",
       " ⅉ⋅Ω    \n",
       "ℯ    - 1"
      ]
     },
     "execution_count": 622,
     "metadata": {},
     "output_type": "execute_result"
    }
   ],
   "source": [
    "sign(n).DTFT(Omega).expr"
   ]
  },
  {
   "cell_type": "markdown",
   "metadata": {
    "id": "RqYaIj8nOBnG"
   },
   "source": [
    "## Plotting "
   ]
  },
  {
   "cell_type": "code",
   "execution_count": null,
   "metadata": {
    "colab": {
     "base_uri": "https://localhost:8080/",
     "height": 317
    },
    "id": "AFHWRj9TN_1e",
    "outputId": "f85989d1-8965-4a89-acb1-5c884cee2dbc"
   },
   "outputs": [
    {
     "data": {
      "text/plain": [
       "(<matplotlib.axes._subplots.AxesSubplot at 0x7f023c53cfd0>,\n",
       " <matplotlib.axes._subplots.AxesSubplot at 0x7f023bc81150>)"
      ]
     },
     "execution_count": 626,
     "metadata": {},
     "output_type": "execute_result"
    },
    {
     "data": {
      "image/png": "[encoded data removed]",
      "text/plain": [
       "<Figure size 432x288 with 2 Axes>"
      ]
     },
     "metadata": {
      "needs_background": "light"
     },
     "output_type": "display_data"
    }
   ],
   "source": [
    "x.DTFT(Omega).plot()"
   ]
  },
  {
   "cell_type": "markdown",
   "metadata": {
    "id": "bzuvjh3SOgrX"
   },
   "source": [
    "# **Discrete-time linear time invariant filters**"
   ]
  },
  {
   "cell_type": "code",
   "execution_count": null,
   "metadata": {
    "id": "88qp68NQK9iC"
   },
   "outputs": [],
   "source": [
    "a = symbol('a')\n",
    "lpf = DLTIFilter((1 - a, ), (1, -a ))"
   ]
  },
  {
   "cell_type": "code",
   "execution_count": null,
   "metadata": {
    "id": "Cwc_rKWbOxAG"
   },
   "outputs": [],
   "source": [
    "# For instance\n",
    "# a = symbol('a')\n",
    "# lpf = DLTIFilter((1 - a, a-2 , ), (1, -a , a+1, ))"
   ]
  },
  {
   "cell_type": "code",
   "execution_count": null,
   "metadata": {
    "colab": {
     "base_uri": "https://localhost:8080/",
     "height": 38
    },
    "id": "mb38WMxAKvEY",
    "outputId": "b80b49ad-6c3f-45bc-8416-36c6453bb951"
   },
   "outputs": [
    {
     "data": {
      "image/png": "[encoded data removed]",
      "text/latex": [
       "$\\displaystyle y(n) = a y(n - 1) + \\left(1 - a\\right) x(n)$"
      ],
      "text/plain": [
       "y(n) = a⋅y(n - 1) + (1 - a)⋅x(n)"
      ]
     },
     "execution_count": 635,
     "metadata": {},
     "output_type": "execute_result"
    }
   ],
   "source": [
    "LPF=lpf.difference_equation()\n",
    "LPF.expr"
   ]
  },
  {
   "cell_type": "code",
   "execution_count": null,
   "metadata": {
    "colab": {
     "base_uri": "https://localhost:8080/",
     "height": 54
    },
    "id": "b6yFDSP8OuOo",
    "outputId": "79211255-e590-4539-c2de-cba5d01b4fa2"
   },
   "outputs": [
    {
     "data": {
      "image/png": "[encoded data removed]",
      "text/latex": [
       "$\\displaystyle \\frac{z \\left(a - 1\\right)}{a - z}$"
      ],
      "text/plain": [
       "z⋅(a - 1)\n",
       "─────────\n",
       "  a - z  "
      ]
     },
     "execution_count": 636,
     "metadata": {},
     "output_type": "execute_result"
    }
   ],
   "source": [
    "LPF.transfer_function().expr"
   ]
  },
  {
   "cell_type": "code",
   "execution_count": null,
   "metadata": {
    "colab": {
     "base_uri": "https://localhost:8080/",
     "height": 38
    },
    "id": "x3E_XflmPEqG",
    "outputId": "fa5a8748-1eb4-4b98-eddd-e9fe78e633c8"
   },
   "outputs": [
    {
     "data": {
      "image/png": "[encoded data removed]",
      "text/latex": [
       "$\\displaystyle - a^{n} \\left(a - 1\\right) \\;\\; \\text{for}\\: n \\geq 0$"
      ],
      "text/plain": [
       "  n                   \n",
       "-a ⋅(a - 1)  for n ≥ 0"
      ]
     },
     "execution_count": 637,
     "metadata": {},
     "output_type": "execute_result"
    }
   ],
   "source": [
    "LPF.transfer_function().IZT().expr"
   ]
  },
  {
   "cell_type": "markdown",
   "metadata": {
    "id": "-fVTF5uqPQEO"
   },
   "source": [
    "## response of the system"
   ]
  },
  {
   "cell_type": "code",
   "execution_count": null,
   "metadata": {
    "colab": {
     "base_uri": "https://localhost:8080/",
     "height": 38
    },
    "id": "WHvyqiLEqmzL",
    "outputId": "99c0de39-6780-4f3d-ec0a-7f24b785d52d"
   },
   "outputs": [
    {
     "data": {
      "image/png": "[encoded data removed]",
      "text/latex": [
       "$\\displaystyle \\delta\\left[n\\right] + \\delta\\left[n - 2\\right]$"
      ],
      "text/plain": [
       "δ[n] + δ[n - 2]"
      ]
     },
     "execution_count": 673,
     "metadata": {},
     "output_type": "execute_result"
    }
   ],
   "source": [
    "x.expr"
   ]
  },
  {
   "cell_type": "code",
   "execution_count": null,
   "metadata": {
    "colab": {
     "base_uri": "https://localhost:8080/",
     "height": 38
    },
    "id": "umbVuStzPEs8",
    "outputId": "4caac4b8-872f-4b08-a36c-cc8027e501a6"
   },
   "outputs": [
    {
     "data": {
      "text/latex": [
       "$$\\left\\{\\underline{1 - a}, a \\left(1 - a\\right), a^{2} \\left(1 - a\\right) - a + 1, a \\left(a^{2} \\left(1 - a\\right) - a + 1\\right), a^{2} \\left(a^{2} \\left(1 - a\\right) - a + 1\\right), a^{3} \\left(a^{2} \\left(1 - a\\right) - a + 1\\right)\\right\\}$$"
      ],
      "text/plain": [
       "⎧                    2                    ⎛ 2                ⎞   2 ⎛ 2        \n",
       "⎨_1 - a, a⋅(1 - a), a ⋅(1 - a) - a + 1, a⋅⎝a ⋅(1 - a) - a + 1⎠, a ⋅⎝a ⋅(1 - a)\n",
       "⎩                                                                             \n",
       "\n",
       "        ⎞   3 ⎛ 2                ⎞⎫\n",
       " - a + 1⎠, a ⋅⎝a ⋅(1 - a) - a + 1⎠⎬\n",
       "                                  ⎭"
      ]
     },
     "execution_count": 638,
     "metadata": {},
     "output_type": "execute_result"
    }
   ],
   "source": [
    "lpf.response(x,ni=(0, 5))"
   ]
  },
  {
   "cell_type": "code",
   "execution_count": null,
   "metadata": {
    "colab": {
     "base_uri": "https://localhost:8080/",
     "height": 38
    },
    "id": "kDB9mmKKQT0e",
    "outputId": "3400d2fa-5bbe-4929-f9f7-72d7981e7c47"
   },
   "outputs": [
    {
     "data": {
      "text/latex": [
       "$$\\left\\{\\underline{1 - a}, - a \\left(a - 1\\right), - a^{2} \\left(a - 1\\right) - a + 1, - a^{3} \\left(a - 1\\right) - a \\left(a - 1\\right), - a^{4} \\left(a - 1\\right) - a^{2} \\left(a - 1\\right), - a^{5} \\left(a - 1\\right) - a^{3} \\left(a - 1\\right), - a^{4} \\left(a - 1\\right), - a^{5} \\left(a - 1\\right)\\right\\}$$"
      ],
      "text/plain": [
       "⎧                       2                     3                         4     \n",
       "⎨_1 - a, -a⋅(a - 1), - a ⋅(a - 1) - a + 1, - a ⋅(a - 1) - a⋅(a - 1), - a ⋅(a -\n",
       "⎩                                                                             \n",
       "\n",
       "       2             5            3            4            5        ⎫\n",
       " 1) - a ⋅(a - 1), - a ⋅(a - 1) - a ⋅(a - 1), -a ⋅(a - 1), -a ⋅(a - 1)⎬\n",
       "                                                                     ⎭"
      ]
     },
     "execution_count": 644,
     "metadata": {},
     "output_type": "execute_result"
    }
   ],
   "source": [
    "x.seq().convolve(LPF.transfer_function().IZT().seq((0,5)))"
   ]
  },
  {
   "cell_type": "code",
   "execution_count": null,
   "metadata": {
    "colab": {
     "base_uri": "https://localhost:8080/",
     "height": 57
    },
    "id": "hhM0yRsiPExv",
    "outputId": "2cf17d86-3ce9-4fce-e20d-68d506456623"
   },
   "outputs": [
    {
     "data": {
      "image/png": "[encoded data removed]",
      "text/latex": [
       "$\\displaystyle \\left(a - 1\\right) \\left(a^{n} \\left(-1 - \\frac{1}{a^{2}}\\right) + \\frac{\\delta\\left[n - 1\\right]}{a} + \\frac{\\delta\\left[n\\right]}{a^{2}}\\right) \\;\\; \\text{for}\\: n \\geq 0$"
      ],
      "text/plain": [
       "        ⎛ n ⎛     1 ⎞   δ[n - 1]   δ[n]⎞           \n",
       "(a - 1)⋅⎜a ⋅⎜-1 - ──⎟ + ──────── + ────⎟  for n ≥ 0\n",
       "        ⎜   ⎜      2⎟      a         2 ⎟           \n",
       "        ⎝   ⎝     a ⎠               a  ⎠           "
      ]
     },
     "execution_count": 641,
     "metadata": {},
     "output_type": "execute_result"
    }
   ],
   "source": [
    "(LPF.transfer_function()*x.ZT()).IZT().expr"
   ]
  },
  {
   "cell_type": "markdown",
   "metadata": {
    "id": "EWNuFQd9RR5g"
   },
   "source": [
    "## **discrete-time LTI filter**"
   ]
  },
  {
   "cell_type": "code",
   "execution_count": null,
   "metadata": {
    "id": "_Fd_C5yvQDa2"
   },
   "outputs": [],
   "source": [
    "de = DifferenceEquation('2 * y(n)', '4 * y(n + 1) - 3 * y(n-3) -2 * x(n) - 5 * x(n-3)')\n",
    "fil = de.dlti_filter()"
   ]
  },
  {
   "cell_type": "code",
   "execution_count": null,
   "metadata": {
    "colab": {
     "base_uri": "https://localhost:8080/",
     "height": 55
    },
    "id": "FpkHZCGWQDd5",
    "outputId": "e0c58c87-7685-4d68-c114-b407e2a9bf58"
   },
   "outputs": [
    {
     "data": {
      "image/png": "[encoded data removed]",
      "text/latex": [
       "$\\displaystyle \\frac{2 z^{3} + 5}{4 z^{4} - 2 z^{3} - 3}$"
      ],
      "text/plain": [
       "       3       \n",
       "    2⋅z  + 5   \n",
       "───────────────\n",
       "   4      3    \n",
       "4⋅z  - 2⋅z  - 3"
      ]
     },
     "execution_count": 646,
     "metadata": {},
     "output_type": "execute_result"
    }
   ],
   "source": [
    "de.transfer_function().expr"
   ]
  },
  {
   "cell_type": "code",
   "execution_count": null,
   "metadata": {
    "colab": {
     "base_uri": "https://localhost:8080/",
     "height": 38
    },
    "id": "jEgoNVPUQDkf",
    "outputId": "297933bb-8a52-4b93-f501-81a251170a43"
   },
   "outputs": [
    {
     "data": {
      "text/latex": [
       "$$\\left( 1, \\  - \\frac{1}{2}, \\  0, \\  0, \\  - \\frac{3}{4}\\right)$$"
      ],
      "text/plain": [
       "(1, -1/2, 0, 0, -3/4)"
      ]
     },
     "execution_count": 647,
     "metadata": {},
     "output_type": "execute_result"
    }
   ],
   "source": [
    "fil.a"
   ]
  },
  {
   "cell_type": "code",
   "execution_count": null,
   "metadata": {
    "colab": {
     "base_uri": "https://localhost:8080/",
     "height": 38
    },
    "id": "nbrwToFTQDoL",
    "outputId": "48e03386-6de0-4f75-a7dd-967ae44b7431"
   },
   "outputs": [
    {
     "data": {
      "text/latex": [
       "$$\\left( 0, \\  \\frac{1}{2}, \\  0, \\  0, \\  \\frac{5}{4}\\right)$$"
      ],
      "text/plain": [
       "(0, 1/2, 0, 0, 5/4)"
      ]
     },
     "execution_count": 648,
     "metadata": {},
     "output_type": "execute_result"
    }
   ],
   "source": [
    "fil.b"
   ]
  },
  {
   "cell_type": "code",
   "execution_count": null,
   "metadata": {
    "colab": {
     "base_uri": "https://localhost:8080/",
     "height": 38
    },
    "id": "EMy7ychiQDq0",
    "outputId": "f3264a9a-ba89-4d08-d4ba-a0bc1cb62599"
   },
   "outputs": [
    {
     "data": {
      "text/latex": [
       "$$\\left\\{\\underline{0}, \\frac{1}{2}, \\frac{1}{4}, \\frac{5}{8}\\right\\}$$"
      ],
      "text/plain": [
       "{_0, 1/2, 1/4, 5/8}"
      ]
     },
     "execution_count": 649,
     "metadata": {},
     "output_type": "execute_result"
    }
   ],
   "source": [
    "fil.response(x,ni=(0, 3))"
   ]
  },
  {
   "cell_type": "code",
   "execution_count": null,
   "metadata": {
    "colab": {
     "base_uri": "https://localhost:8080/",
     "height": 52
    },
    "id": "5Lxz1qZCRxZ9",
    "outputId": "ffc75f5c-4628-4479-a878-3d52e0315f07"
   },
   "outputs": [
    {
     "data": {
      "image/png": "[encoded data removed]",
      "text/latex": [
       "$\\displaystyle y(n) = \\frac{5 x(n - 4)}{4} + \\frac{x(n - 1)}{2} + \\frac{3 y(n - 4)}{4} + \\frac{y(n - 1)}{2}$"
      ],
      "text/plain": [
       "       5⋅x(n - 4)   x(n - 1)   3⋅y(n - 4)   y(n - 1)\n",
       "y(n) = ────────── + ──────── + ────────── + ────────\n",
       "           4           2           4           2    "
      ]
     },
     "execution_count": 650,
     "metadata": {},
     "output_type": "execute_result"
    }
   ],
   "source": [
    "fil.difference_equation().expr"
   ]
  },
  {
   "cell_type": "markdown",
   "metadata": {
    "id": "NtNyOL9eYwLo"
   },
   "source": [
    "# **difference_equation**"
   ]
  },
  {
   "cell_type": "code",
   "execution_count": null,
   "metadata": {
    "colab": {
     "base_uri": "https://localhost:8080/",
     "height": 38
    },
    "id": "XFzCVDfZRxdB",
    "outputId": "2e94d85a-ed34-4e34-ec40-6c1f5917c1c4"
   },
   "outputs": [
    {
     "data": {
      "image/png": "[encoded data removed]",
      "text/latex": [
       "$\\displaystyle y(n) = x(n) + 2 x(n - 2)$"
      ],
      "text/plain": [
       "y(n) = x(n) + 2⋅x(n - 2)"
      ]
     },
     "execution_count": 677,
     "metadata": {},
     "output_type": "execute_result"
    }
   ],
   "source": [
    "H = (z**2 + 2) / z**2\n",
    "H.difference_equation('x', 'y', 'iir').expr\n"
   ]
  },
  {
   "cell_type": "code",
   "execution_count": null,
   "metadata": {
    "colab": {
     "base_uri": "https://localhost:8080/",
     "height": 38
    },
    "id": "dvoGty7NRxig",
    "outputId": "205b2d11-f7d3-4a11-a847-c4411371623b"
   },
   "outputs": [
    {
     "data": {
      "image/png": "[encoded data removed]",
      "text/latex": [
       "$\\displaystyle y(n) = 2 x(n - 2) + x(n - 1)$"
      ],
      "text/plain": [
       "y(n) = 2⋅x(n - 2) + x(n - 1)"
      ]
     },
     "execution_count": 678,
     "metadata": {},
     "output_type": "execute_result"
    }
   ],
   "source": [
    "H = (z + 2) / z**2\n",
    "H.difference_equation('x', 'y', 'fir').expr"
   ]
  },
  {
   "cell_type": "code",
   "execution_count": null,
   "metadata": {
    "colab": {
     "base_uri": "https://localhost:8080/",
     "height": 38
    },
    "id": "VqUlL3J3Rxlm",
    "outputId": "4d3abb2a-0a21-49df-f8f9-a29c83476ce7"
   },
   "outputs": [
    {
     "data": {
      "image/png": "[encoded data removed]",
      "text/latex": [
       "$\\displaystyle 3 x(n - 3) + y(n) = 2 x(n - 2) + x(n - 1)$"
      ],
      "text/plain": [
       "3⋅x(n - 3) + y(n) = 2⋅x(n - 2) + x(n - 1)"
      ]
     },
     "execution_count": 664,
     "metadata": {},
     "output_type": "execute_result"
    }
   ],
   "source": [
    "difference_equation('y(n)+3*x(n-3)', '2 * x(n - 2) + x(n - 1)').expr"
   ]
  },
  {
   "cell_type": "code",
   "execution_count": null,
   "metadata": {
    "colab": {
     "base_uri": "https://localhost:8080/",
     "height": 38
    },
    "id": "ZerofbPYSXla",
    "outputId": "ccb70e62-eda0-42a9-940e-5615e200f546"
   },
   "outputs": [
    {
     "data": {
      "image/png": "[encoded data removed]",
      "text/latex": [
       "$\\displaystyle y(n) = - 3 x(n - 3) + 2 x(n - 2) + x(n - 1)$"
      ],
      "text/plain": [
       "y(n) = -3⋅x(n - 3) + 2⋅x(n - 2) + x(n - 1)"
      ]
     },
     "execution_count": 665,
     "metadata": {},
     "output_type": "execute_result"
    }
   ],
   "source": [
    "de=difference_equation('y(n)+3*x(n-3)', '2 * x(n - 2) + x(n - 1)')\n",
    "de.separate().expr"
   ]
  },
  {
   "cell_type": "code",
   "execution_count": null,
   "metadata": {
    "colab": {
     "base_uri": "https://localhost:8080/",
     "height": 199
    },
    "id": "y_8ORIGtSXn3",
    "outputId": "6f6cfcf2-2b34-4803-8a1b-0aea6b18e3af"
   },
   "outputs": [
    {
     "ename": "TypeError",
     "evalue": "ignored",
     "output_type": "error",
     "traceback": [
      "\u001b[0;31m---------------------------------------------------------------------------\u001b[0m",
      "\u001b[0;31mTypeError\u001b[0m                                 Traceback (most recent call last)",
      "\u001b[0;32m<ipython-input-676-36a443c72689>\u001b[0m in \u001b[0;36m<module>\u001b[0;34m()\u001b[0m\n\u001b[1;32m      1\u001b[0m \u001b[0mde\u001b[0m \u001b[0;34m=\u001b[0m \u001b[0mdifference_equation\u001b[0m\u001b[0;34m(\u001b[0m\u001b[0;34m'y(n)'\u001b[0m\u001b[0;34m,\u001b[0m \u001b[0;34m'2 * x(n - 2) + x(n - 1)'\u001b[0m\u001b[0;34m)\u001b[0m\u001b[0;34m\u001b[0m\u001b[0;34m\u001b[0m\u001b[0m\n\u001b[0;32m----> 2\u001b[0;31m \u001b[0mH\u001b[0m \u001b[0;34m=\u001b[0m \u001b[0mde\u001b[0m\u001b[0;34m.\u001b[0m\u001b[0mtransfer_function\u001b[0m\u001b[0;34m(\u001b[0m\u001b[0;34m'iir'\u001b[0m\u001b[0;34m)\u001b[0m\u001b[0;34m\u001b[0m\u001b[0;34m\u001b[0m\u001b[0m\n\u001b[0m\u001b[1;32m      3\u001b[0m \u001b[0mH\u001b[0m\u001b[0;34m.\u001b[0m\u001b[0mexpr\u001b[0m\u001b[0;34m\u001b[0m\u001b[0;34m\u001b[0m\u001b[0m\n",
      "\u001b[0;31mTypeError\u001b[0m: transfer_function() takes 1 positional argument but 2 were given"
     ]
    }
   ],
   "source": [
    "de = difference_equation('y(n)', '2 * x(n - 2) + x(n - 1)', )\n",
    "H = de.transfer_function()\n",
    "H.expr"
   ]
  },
  {
   "cell_type": "code",
   "execution_count": null,
   "metadata": {
    "id": "Irg6oCALy01J"
   },
   "outputs": [],
   "source": []
  },
  {
   "cell_type": "code",
   "execution_count": null,
   "metadata": {
    "id": "VZ2wT7wYy03e"
   },
   "outputs": [],
   "source": []
  },
  {
   "cell_type": "code",
   "execution_count": null,
   "metadata": {
    "id": "CE9W_Etny06H"
   },
   "outputs": [],
   "source": []
  },
  {
   "cell_type": "code",
   "execution_count": null,
   "metadata": {
    "id": "gx9iOzGBy08m"
   },
   "outputs": [],
   "source": []
  },
  {
   "cell_type": "code",
   "execution_count": null,
   "metadata": {
    "id": "vrtv5fJ6y0-3"
   },
   "outputs": [],
   "source": []
  },
  {
   "cell_type": "code",
   "execution_count": null,
   "metadata": {
    "id": "u2ZbBzQMy1A8"
   },
   "outputs": [],
   "source": []
  }
 ],
 "metadata": {
  "colab": {
   "collapsed_sections": [],
   "name": "Tutorial_Lcapy.ipynb",
   "provenance": []
  },
  "kernelspec": {
   "display_name": "Python 3",
   "language": "python",
   "name": "python3"
  },
  "language_info": {
   "codemirror_mode": {
    "name": "ipython",
    "version": 3
   },
   "file_extension": ".py",
   "mimetype": "text/x-python",
   "name": "python",
   "nbconvert_exporter": "python",
   "pygments_lexer": "ipython3",
   "version": "3.8.8"
  }
 },
 "nbformat": 4,
 "nbformat_minor": 1
}
